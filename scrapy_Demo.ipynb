{
 "cells": [
  {
   "cell_type": "markdown",
   "metadata": {},
   "source": [
    "Scrapy demo is Going to Crawl the websit and login into that and extract the desired text to generaet the CSV and data on thtat. "
   ]
  },
  {
   "cell_type": "code",
   "execution_count": 3,
   "metadata": {},
   "outputs": [],
   "source": [
    "# we are goign to use web scrappoing \n",
    "import csv\n",
    "import scrapy\n",
    "from scrapy import signals\n",
    "from scrapy.crawler import CrawlerProcess\n",
    "from scrapy.signalmanager import dispatcher"
   ]
  },
  {
   "cell_type": "code",
   "execution_count": null,
   "metadata": {},
   "outputs": [],
   "source": [
    "URL = 'https://www.linkedin.com/'\n",
    "scrapy.Request(url=URL, callback=self.response_parser)\n"
   ]
  }
 ],
 "metadata": {
  "kernelspec": {
   "display_name": "Python 3 (ipykernel)",
   "language": "python",
   "name": "python3"
  }
 },
 "nbformat": 4,
 "nbformat_minor": 2
}
