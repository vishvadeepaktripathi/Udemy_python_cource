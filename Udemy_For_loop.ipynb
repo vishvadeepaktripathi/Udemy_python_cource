{
 "cells": [
  {
   "cell_type": "code",
   "execution_count": 3,
   "metadata": {},
   "outputs": [
    {
     "name": "stdout",
     "output_type": "stream",
     "text": [
      "0\n",
      "1\n",
      "2\n",
      "3\n",
      "4\n",
      "5\n",
      "6\n",
      "7\n",
      "8\n",
      "9\n",
      "10\n",
      "11\n"
     ]
    }
   ],
   "source": [
    "counter = 0 \n",
    "while counter < 12 : \n",
    "    print(counter)\n",
    "    counter = counter + 1\n"
   ]
  },
  {
   "cell_type": "code",
   "execution_count": 4,
   "metadata": {},
   "outputs": [
    {
     "name": "stdout",
     "output_type": "stream",
     "text": [
      "hello\n",
      "hello\n",
      "hello\n",
      "hello\n",
      "hello\n"
     ]
    }
   ],
   "source": [
    "for i in range(5): \n",
    "    print('hello')"
   ]
  },
  {
   "cell_type": "markdown",
   "metadata": {},
   "source": [
    "Read all the files and print the file name in folder "
   ]
  },
  {
   "cell_type": "code",
   "execution_count": 5,
   "metadata": {},
   "outputs": [
    {
     "name": "stdout",
     "output_type": "stream",
     "text": [
      ".git\n",
      "basketball_dataset\n",
      "basketball_excercise.py\n",
      "DF_in\n",
      "P4-Section3-Homework-Data.zip\n",
      "Python_Home_Work_Section3_Data.ipynb\n",
      "sakila_address.csv\n",
      "sakil_mysql_Analysis.ipynb\n",
      "scrapy_Demo.ipynb\n",
      "test_db_access.ipynb\n",
      "Udemy_For_loop.ipynb\n",
      "Your-Shortcut-To-Becoming-A-Better-Data-Scientist.pdf\n"
     ]
    }
   ],
   "source": [
    "import os\n",
    "\n",
    "folder_path = 'D:/POC/Python/Udemy_python_cource/'\n",
    "\n",
    "file_names = os.listdir(folder_path)\n",
    "\n",
    "for fn in file_names:\n",
    "    print(fn) "
   ]
  },
  {
   "cell_type": "code",
   "execution_count": 6,
   "metadata": {},
   "outputs": [
    {
     "data": {
      "text/plain": [
       "range(0, 5)"
      ]
     },
     "execution_count": 6,
     "metadata": {},
     "output_type": "execute_result"
    }
   ],
   "source": [
    "range(5)"
   ]
  },
  {
   "cell_type": "code",
   "execution_count": 7,
   "metadata": {},
   "outputs": [
    {
     "data": {
      "text/plain": [
       "[0, 1, 2, 3, 4]"
      ]
     },
     "execution_count": 7,
     "metadata": {},
     "output_type": "execute_result"
    }
   ],
   "source": [
    "list(range(5))"
   ]
  },
  {
   "cell_type": "markdown",
   "metadata": {},
   "source": [
    "If statement testing using numpy   "
   ]
  },
  {
   "cell_type": "code",
   "execution_count": 8,
   "metadata": {},
   "outputs": [],
   "source": [
    "import numpy as np \n",
    "from numpy.random import randn"
   ]
  },
  {
   "cell_type": "code",
   "execution_count": 9,
   "metadata": {},
   "outputs": [
    {
     "data": {
      "text/plain": [
       "-1.294021615348888"
      ]
     },
     "execution_count": 9,
     "metadata": {},
     "output_type": "execute_result"
    }
   ],
   "source": [
    "randn()"
   ]
  },
  {
   "cell_type": "code",
   "execution_count": 10,
   "metadata": {},
   "outputs": [
    {
     "data": {
      "text/plain": [
       "[0, 1, 2, 3, 4]"
      ]
     },
     "execution_count": 10,
     "metadata": {},
     "output_type": "execute_result"
    }
   ],
   "source": [
    "range(5) # different implimentatiosn in python 2.7 \n",
    "list(range(5))"
   ]
  },
  {
   "cell_type": "markdown",
   "metadata": {},
   "source": [
    "<B> IF statement </B> \n",
    "1. Type of variables \n",
    "2. jUsing Variables \n",
    "3. Logical variables and operators \n",
    "4. While loop \n",
    "5. For loop \n",
    "6. if statement \n",
    "7. Random variables : randn()"
   ]
  },
  {
   "cell_type": "code",
   "execution_count": 11,
   "metadata": {},
   "outputs": [
    {
     "name": "stdout",
     "output_type": "stream",
     "text": [
      "2.616873174878452\n",
      "1.8129693036461636\n",
      "0.5367767846412238\n",
      "0.3868472384495543\n",
      "0.8223721140709218\n",
      "-0.7112626630361006\n",
      "-1.4453471616530975\n",
      "0.05665293408030684\n",
      "-0.44356833535523527\n",
      "0.33427741999620564\n",
      "-0.08523567612453323\n",
      "-0.11170477765776377\n",
      "-0.4506114226474571\n",
      "-0.3687699577483043\n",
      "1.7428360848088078\n",
      "-1.8443373803671683\n",
      "-0.588918543367871\n",
      "0.07333271543296226\n",
      "1.0506429318516814\n",
      "-0.45254327219813417\n",
      "-0.025569651383601975\n",
      "0.9050981967329575\n",
      "0.3837423795309271\n",
      "-1.4192785950550733\n",
      "0.4882928630549495\n",
      "0.04918756448215928\n",
      "0.333371912648439\n",
      "-0.7292233056294274\n",
      "0.6141781062824868\n",
      "1.1256302822443265\n",
      "-0.48141482731982255\n",
      "0.6193699520387874\n",
      "-1.3342778793076346\n",
      "1.8909259191387964\n",
      "0.626286219994123\n",
      "0.9230761370171567\n",
      "0.6922523915127253\n",
      "1.2178750012134405\n",
      "1.4544378347665825\n",
      "-1.1406178695477402\n",
      "1.2716601829537784\n",
      "-1.08237206463508\n",
      "0.9080120678689061\n",
      "0.6446391290190517\n",
      "0.6654997085409772\n",
      "-1.0420574963508082\n",
      "-0.27246289180086614\n",
      "1.9109182950365882\n",
      "1.3067126035019958\n",
      "-0.21952564359609955\n",
      "1.1647159724550007\n",
      "-1.309234532086669\n",
      "-0.4056243041903734\n",
      "0.025718769500447488\n",
      "-0.7518896101927263\n",
      "0.8673532209356348\n",
      "-0.05958168525234215\n",
      "-0.00016578148863050494\n",
      "0.4392672720291701\n",
      "-0.003752924216994296\n",
      "-1.214544127613692\n",
      "0.5869526099959047\n",
      "-0.03573422183142148\n",
      "0.20860820592686422\n",
      "-2.52157221191166\n",
      "-0.0946775249816323\n",
      "-0.602675790679405\n",
      "-0.83770915128469\n",
      "-0.5991352044912727\n",
      "0.3528046482863413\n",
      "0.2518443804173128\n",
      "-1.5568504658220452\n",
      "0.35830687819533685\n",
      "-2.1296069082423212\n",
      "0.08359370033403611\n",
      "-3.0405604578519925\n",
      "-1.2471490977365705\n",
      "-0.6935616367269954\n",
      "0.5770104878660013\n",
      "0.13315820369959147\n",
      "-1.1814534588860846\n",
      "-2.6607335438439983\n",
      "0.4781951225829171\n",
      "-1.3043749550862525\n",
      "0.7980942176854245\n",
      "-1.6552198827988929\n",
      "-0.001718288308112097\n",
      "-0.30938806424607496\n",
      "0.6182287202029859\n",
      "-0.5377560509018654\n",
      "-1.7315302139557156\n",
      "0.8311460593898943\n",
      "0.016483791995927023\n",
      "0.13837914383160851\n",
      "0.00968669082999745\n",
      "-2.158656515855924\n",
      "-0.7100947969474407\n",
      "0.2757445939827124\n",
      "-1.3748891218359443\n",
      "-1.4715671198246938\n"
     ]
    }
   ],
   "source": [
    "for i in randn(100):\n",
    "    print(i)"
   ]
  },
  {
   "cell_type": "markdown",
   "metadata": {},
   "source": [
    "List Data structure    \n",
    "- Order set of sequence \n",
    " - Contain mix of data type. \n",
    " - Example :  MyFirstList = []"
   ]
  },
  {
   "cell_type": "code",
   "execution_count": 12,
   "metadata": {},
   "outputs": [
    {
     "data": {
      "text/plain": [
       "[1, 2, 3, 4, 'A', -100]"
      ]
     },
     "execution_count": 12,
     "metadata": {},
     "output_type": "execute_result"
    }
   ],
   "source": [
    "my_first_list = [1,2,3,4,\"A\", -100]\n",
    "my_first_list"
   ]
  },
  {
   "cell_type": "markdown",
   "metadata": {},
   "source": [
    "- How to access the list value from list. "
   ]
  },
  {
   "cell_type": "code",
   "execution_count": 13,
   "metadata": {},
   "outputs": [
    {
     "data": {
      "text/plain": [
       "1"
      ]
     },
     "execution_count": 13,
     "metadata": {},
     "output_type": "execute_result"
    }
   ],
   "source": [
    "my_first_list[0]"
   ]
  },
  {
   "cell_type": "code",
   "execution_count": 14,
   "metadata": {},
   "outputs": [
    {
     "data": {
      "text/plain": [
       "'A'"
      ]
     },
     "execution_count": 14,
     "metadata": {},
     "output_type": "execute_result"
    }
   ],
   "source": [
    "my_first_list[4]"
   ]
  },
  {
   "cell_type": "markdown",
   "metadata": {},
   "source": [
    "how to Get the length and get the value "
   ]
  },
  {
   "cell_type": "code",
   "execution_count": 15,
   "metadata": {},
   "outputs": [
    {
     "data": {
      "text/plain": [
       "6"
      ]
     },
     "execution_count": 15,
     "metadata": {},
     "output_type": "execute_result"
    }
   ],
   "source": [
    "len(my_first_list)"
   ]
  },
  {
   "cell_type": "markdown",
   "metadata": {},
   "source": [
    "Read all the value of the list. "
   ]
  },
  {
   "cell_type": "code",
   "execution_count": 16,
   "metadata": {},
   "outputs": [
    {
     "name": "stdout",
     "output_type": "stream",
     "text": [
      "0\n",
      "1\n",
      "2\n",
      "3\n",
      "4\n",
      "5\n"
     ]
    }
   ],
   "source": [
    "x = len(my_first_list)\n",
    "for i in range(x):\n",
    "    print(i)"
   ]
  },
  {
   "cell_type": "code",
   "execution_count": 17,
   "metadata": {},
   "outputs": [
    {
     "name": "stdout",
     "output_type": "stream",
     "text": [
      "1\n",
      "2\n",
      "3\n",
      "4\n",
      "A\n",
      "-100\n"
     ]
    }
   ],
   "source": [
    "x = len(my_first_list)\n",
    "for i in range(x):\n",
    "    print(my_first_list[i])"
   ]
  },
  {
   "cell_type": "code",
   "execution_count": 18,
   "metadata": {},
   "outputs": [
    {
     "name": "stdout",
     "output_type": "stream",
     "text": [
      "0\n",
      "1\n",
      "2\n",
      "3\n",
      "4\n",
      "5\n",
      "6\n",
      "Total :  21\n"
     ]
    }
   ],
   "source": [
    "my_iterative_list = [0,1,2,3,4,5,6]\n",
    "x = len(my_iterative_list,)\n",
    "z = 0 \n",
    "for i in range(x):\n",
    "    print(my_iterative_list[i])\n",
    "    z = z + int(my_iterative_list[i])\n",
    "    \n",
    "print(\"Total : \",z)"
   ]
  },
  {
   "cell_type": "code",
   "execution_count": 19,
   "metadata": {},
   "outputs": [
    {
     "data": {
      "text/plain": [
       "[1, 2, 3]"
      ]
     },
     "execution_count": 19,
     "metadata": {},
     "output_type": "execute_result"
    }
   ],
   "source": [
    "# Slicing \n",
    "my_iterative_list[1:4]\n"
   ]
  },
  {
   "cell_type": "code",
   "execution_count": 20,
   "metadata": {},
   "outputs": [
    {
     "data": {
      "text/plain": [
       "[1, 3, 5]"
      ]
     },
     "execution_count": 20,
     "metadata": {},
     "output_type": "execute_result"
    }
   ],
   "source": [
    "my_iterative_list[1:7:2]"
   ]
  },
  {
   "cell_type": "markdown",
   "metadata": {},
   "source": [
    "Packages\n",
    "1. Steps to impliment # Find the package in git hub or somewhere else \n",
    "2. Install the package either with anaconda or you can use \" pip install <package name> \"\n",
    "    - conda install package Name \n",
    "3. Import "
   ]
  },
  {
   "cell_type": "code",
   "execution_count": 21,
   "metadata": {},
   "outputs": [],
   "source": [
    "# we are goign to use web scrappoing \n",
    "import scrapy"
   ]
  },
  {
   "cell_type": "code",
   "execution_count": 22,
   "metadata": {},
   "outputs": [],
   "source": [
    "from scrapy.crawler import CrawlerProcess"
   ]
  },
  {
   "cell_type": "code",
   "execution_count": 23,
   "metadata": {},
   "outputs": [],
   "source": [
    "import numpy"
   ]
  },
  {
   "cell_type": "markdown",
   "metadata": {},
   "source": [
    "NUmpy and Array in pandas \n",
    "1. Diff between list and array \n",
    "2. Array will have same data type so if one of the element will be string then all will conver into string in Array where list will have multiple data type. \n",
    "3. List will have seperate function that can use explicit, where array will have same things to use function to populate the data or work on data "
   ]
  },
  {
   "cell_type": "code",
   "execution_count": 24,
   "metadata": {},
   "outputs": [],
   "source": [
    "Arr_a = ([2345,2,453,10.-23])"
   ]
  },
  {
   "cell_type": "code",
   "execution_count": 25,
   "metadata": {},
   "outputs": [
    {
     "data": {
      "text/plain": [
       "list"
      ]
     },
     "execution_count": 25,
     "metadata": {},
     "output_type": "execute_result"
    }
   ],
   "source": [
    "type(Arr_a)"
   ]
  },
  {
   "cell_type": "code",
   "execution_count": 26,
   "metadata": {},
   "outputs": [],
   "source": [
    "import numpy as np"
   ]
  },
  {
   "cell_type": "code",
   "execution_count": 27,
   "metadata": {},
   "outputs": [],
   "source": [
    "# here we are using list Arr_a to Array a \n",
    "a = np.array(Arr_a)"
   ]
  },
  {
   "cell_type": "code",
   "execution_count": 28,
   "metadata": {},
   "outputs": [
    {
     "data": {
      "text/plain": [
       "array([ 2.345e+03,  2.000e+00,  4.530e+02, -1.300e+01])"
      ]
     },
     "execution_count": 28,
     "metadata": {},
     "output_type": "execute_result"
    }
   ],
   "source": [
    "a"
   ]
  },
  {
   "cell_type": "code",
   "execution_count": 29,
   "metadata": {},
   "outputs": [],
   "source": [
    "Array_b = np.array([12,15,16,-1,\"abc\",True])"
   ]
  },
  {
   "cell_type": "code",
   "execution_count": 30,
   "metadata": {},
   "outputs": [
    {
     "data": {
      "text/plain": [
       "array(['12', '15', '16', '-1', 'abc', 'True'], dtype='<U11')"
      ]
     },
     "execution_count": 30,
     "metadata": {},
     "output_type": "execute_result"
    }
   ],
   "source": [
    "# here every item will be converted into string becasue in ARRAY one item is the string data type. \n",
    "Array_b "
   ]
  },
  {
   "cell_type": "markdown",
   "metadata": {},
   "source": [
    "Data structure and Matrices in python "
   ]
  },
  {
   "cell_type": "code",
   "execution_count": null,
   "metadata": {},
   "outputs": [],
   "source": []
  },
  {
   "cell_type": "markdown",
   "metadata": {},
   "source": [
    "Visualization "
   ]
  },
  {
   "cell_type": "markdown",
   "metadata": {},
   "source": [
    "Data Frame \n",
    "Import data into python "
   ]
  },
  {
   "cell_type": "code",
   "execution_count": 31,
   "metadata": {},
   "outputs": [],
   "source": [
    "import pandas as pd "
   ]
  },
  {
   "cell_type": "markdown",
   "metadata": {},
   "source": [
    "Method 1 : Specify full path to gile "
   ]
  },
  {
   "cell_type": "code",
   "execution_count": 32,
   "metadata": {},
   "outputs": [],
   "source": [
    "stats = pd.read_csv('D:\\\\POC\\\\Python\\\\Udemy_python_cource\\\\DF_in\\\\P4-Demographic-Data.csv')"
   ]
  },
  {
   "cell_type": "code",
   "execution_count": 33,
   "metadata": {},
   "outputs": [
    {
     "data": {
      "text/html": [
       "<div>\n",
       "<style scoped>\n",
       "    .dataframe tbody tr th:only-of-type {\n",
       "        vertical-align: middle;\n",
       "    }\n",
       "\n",
       "    .dataframe tbody tr th {\n",
       "        vertical-align: top;\n",
       "    }\n",
       "\n",
       "    .dataframe thead th {\n",
       "        text-align: right;\n",
       "    }\n",
       "</style>\n",
       "<table border=\"1\" class=\"dataframe\">\n",
       "  <thead>\n",
       "    <tr style=\"text-align: right;\">\n",
       "      <th></th>\n",
       "      <th>Country Name</th>\n",
       "      <th>Country Code</th>\n",
       "      <th>Birth rate</th>\n",
       "      <th>Internet users</th>\n",
       "      <th>Income Group</th>\n",
       "    </tr>\n",
       "  </thead>\n",
       "  <tbody>\n",
       "    <tr>\n",
       "      <th>0</th>\n",
       "      <td>Aruba</td>\n",
       "      <td>ABW</td>\n",
       "      <td>10.244</td>\n",
       "      <td>78.9</td>\n",
       "      <td>High income</td>\n",
       "    </tr>\n",
       "    <tr>\n",
       "      <th>1</th>\n",
       "      <td>Afghanistan</td>\n",
       "      <td>AFG</td>\n",
       "      <td>35.253</td>\n",
       "      <td>5.9</td>\n",
       "      <td>Low income</td>\n",
       "    </tr>\n",
       "    <tr>\n",
       "      <th>2</th>\n",
       "      <td>Angola</td>\n",
       "      <td>AGO</td>\n",
       "      <td>45.985</td>\n",
       "      <td>19.1</td>\n",
       "      <td>Upper middle income</td>\n",
       "    </tr>\n",
       "    <tr>\n",
       "      <th>3</th>\n",
       "      <td>Albania</td>\n",
       "      <td>ALB</td>\n",
       "      <td>12.877</td>\n",
       "      <td>57.2</td>\n",
       "      <td>Upper middle income</td>\n",
       "    </tr>\n",
       "    <tr>\n",
       "      <th>4</th>\n",
       "      <td>United Arab Emirates</td>\n",
       "      <td>ARE</td>\n",
       "      <td>11.044</td>\n",
       "      <td>88.0</td>\n",
       "      <td>High income</td>\n",
       "    </tr>\n",
       "    <tr>\n",
       "      <th>...</th>\n",
       "      <td>...</td>\n",
       "      <td>...</td>\n",
       "      <td>...</td>\n",
       "      <td>...</td>\n",
       "      <td>...</td>\n",
       "    </tr>\n",
       "    <tr>\n",
       "      <th>190</th>\n",
       "      <td>Yemen, Rep.</td>\n",
       "      <td>YEM</td>\n",
       "      <td>32.947</td>\n",
       "      <td>20.0</td>\n",
       "      <td>Lower middle income</td>\n",
       "    </tr>\n",
       "    <tr>\n",
       "      <th>191</th>\n",
       "      <td>South Africa</td>\n",
       "      <td>ZAF</td>\n",
       "      <td>20.850</td>\n",
       "      <td>46.5</td>\n",
       "      <td>Upper middle income</td>\n",
       "    </tr>\n",
       "    <tr>\n",
       "      <th>192</th>\n",
       "      <td>Congo, Dem. Rep.</td>\n",
       "      <td>COD</td>\n",
       "      <td>42.394</td>\n",
       "      <td>2.2</td>\n",
       "      <td>Low income</td>\n",
       "    </tr>\n",
       "    <tr>\n",
       "      <th>193</th>\n",
       "      <td>Zambia</td>\n",
       "      <td>ZMB</td>\n",
       "      <td>40.471</td>\n",
       "      <td>15.4</td>\n",
       "      <td>Lower middle income</td>\n",
       "    </tr>\n",
       "    <tr>\n",
       "      <th>194</th>\n",
       "      <td>Zimbabwe</td>\n",
       "      <td>ZWE</td>\n",
       "      <td>35.715</td>\n",
       "      <td>18.5</td>\n",
       "      <td>Low income</td>\n",
       "    </tr>\n",
       "  </tbody>\n",
       "</table>\n",
       "<p>195 rows × 5 columns</p>\n",
       "</div>"
      ],
      "text/plain": [
       "             Country Name Country Code  Birth rate  Internet users  \\\n",
       "0                   Aruba          ABW      10.244            78.9   \n",
       "1             Afghanistan          AFG      35.253             5.9   \n",
       "2                  Angola          AGO      45.985            19.1   \n",
       "3                 Albania          ALB      12.877            57.2   \n",
       "4    United Arab Emirates          ARE      11.044            88.0   \n",
       "..                    ...          ...         ...             ...   \n",
       "190           Yemen, Rep.          YEM      32.947            20.0   \n",
       "191          South Africa          ZAF      20.850            46.5   \n",
       "192      Congo, Dem. Rep.          COD      42.394             2.2   \n",
       "193                Zambia          ZMB      40.471            15.4   \n",
       "194              Zimbabwe          ZWE      35.715            18.5   \n",
       "\n",
       "            Income Group  \n",
       "0            High income  \n",
       "1             Low income  \n",
       "2    Upper middle income  \n",
       "3    Upper middle income  \n",
       "4            High income  \n",
       "..                   ...  \n",
       "190  Lower middle income  \n",
       "191  Upper middle income  \n",
       "192           Low income  \n",
       "193  Lower middle income  \n",
       "194           Low income  \n",
       "\n",
       "[195 rows x 5 columns]"
      ]
     },
     "execution_count": 33,
     "metadata": {},
     "output_type": "execute_result"
    }
   ],
   "source": [
    "stats\n"
   ]
  },
  {
   "cell_type": "markdown",
   "metadata": {},
   "source": [
    "Method 2 : change the working directory "
   ]
  },
  {
   "cell_type": "code",
   "execution_count": 34,
   "metadata": {},
   "outputs": [],
   "source": [
    "import os"
   ]
  },
  {
   "cell_type": "code",
   "execution_count": 35,
   "metadata": {},
   "outputs": [
    {
     "name": "stdout",
     "output_type": "stream",
     "text": [
      "C:\\Users\\Vishva.Tripathi\\notebook_excercise\n"
     ]
    }
   ],
   "source": [
    "print(os.getcwd())"
   ]
  },
  {
   "cell_type": "code",
   "execution_count": 36,
   "metadata": {},
   "outputs": [],
   "source": [
    "os.chdir('D:\\\\POC\\\\Python\\\\Udemy_python_cource\\\\DF_in\\\\')"
   ]
  },
  {
   "cell_type": "code",
   "execution_count": 37,
   "metadata": {},
   "outputs": [],
   "source": [
    "Stat2 = pd.read_csv('P4-Demographic-Data.csv')"
   ]
  },
  {
   "cell_type": "code",
   "execution_count": 38,
   "metadata": {},
   "outputs": [
    {
     "data": {
      "text/html": [
       "<div>\n",
       "<style scoped>\n",
       "    .dataframe tbody tr th:only-of-type {\n",
       "        vertical-align: middle;\n",
       "    }\n",
       "\n",
       "    .dataframe tbody tr th {\n",
       "        vertical-align: top;\n",
       "    }\n",
       "\n",
       "    .dataframe thead th {\n",
       "        text-align: right;\n",
       "    }\n",
       "</style>\n",
       "<table border=\"1\" class=\"dataframe\">\n",
       "  <thead>\n",
       "    <tr style=\"text-align: right;\">\n",
       "      <th></th>\n",
       "      <th>Country Name</th>\n",
       "      <th>Country Code</th>\n",
       "      <th>Birth rate</th>\n",
       "      <th>Internet users</th>\n",
       "      <th>Income Group</th>\n",
       "    </tr>\n",
       "  </thead>\n",
       "  <tbody>\n",
       "    <tr>\n",
       "      <th>0</th>\n",
       "      <td>Aruba</td>\n",
       "      <td>ABW</td>\n",
       "      <td>10.244</td>\n",
       "      <td>78.9</td>\n",
       "      <td>High income</td>\n",
       "    </tr>\n",
       "    <tr>\n",
       "      <th>1</th>\n",
       "      <td>Afghanistan</td>\n",
       "      <td>AFG</td>\n",
       "      <td>35.253</td>\n",
       "      <td>5.9</td>\n",
       "      <td>Low income</td>\n",
       "    </tr>\n",
       "    <tr>\n",
       "      <th>2</th>\n",
       "      <td>Angola</td>\n",
       "      <td>AGO</td>\n",
       "      <td>45.985</td>\n",
       "      <td>19.1</td>\n",
       "      <td>Upper middle income</td>\n",
       "    </tr>\n",
       "    <tr>\n",
       "      <th>3</th>\n",
       "      <td>Albania</td>\n",
       "      <td>ALB</td>\n",
       "      <td>12.877</td>\n",
       "      <td>57.2</td>\n",
       "      <td>Upper middle income</td>\n",
       "    </tr>\n",
       "    <tr>\n",
       "      <th>4</th>\n",
       "      <td>United Arab Emirates</td>\n",
       "      <td>ARE</td>\n",
       "      <td>11.044</td>\n",
       "      <td>88.0</td>\n",
       "      <td>High income</td>\n",
       "    </tr>\n",
       "    <tr>\n",
       "      <th>...</th>\n",
       "      <td>...</td>\n",
       "      <td>...</td>\n",
       "      <td>...</td>\n",
       "      <td>...</td>\n",
       "      <td>...</td>\n",
       "    </tr>\n",
       "    <tr>\n",
       "      <th>190</th>\n",
       "      <td>Yemen, Rep.</td>\n",
       "      <td>YEM</td>\n",
       "      <td>32.947</td>\n",
       "      <td>20.0</td>\n",
       "      <td>Lower middle income</td>\n",
       "    </tr>\n",
       "    <tr>\n",
       "      <th>191</th>\n",
       "      <td>South Africa</td>\n",
       "      <td>ZAF</td>\n",
       "      <td>20.850</td>\n",
       "      <td>46.5</td>\n",
       "      <td>Upper middle income</td>\n",
       "    </tr>\n",
       "    <tr>\n",
       "      <th>192</th>\n",
       "      <td>Congo, Dem. Rep.</td>\n",
       "      <td>COD</td>\n",
       "      <td>42.394</td>\n",
       "      <td>2.2</td>\n",
       "      <td>Low income</td>\n",
       "    </tr>\n",
       "    <tr>\n",
       "      <th>193</th>\n",
       "      <td>Zambia</td>\n",
       "      <td>ZMB</td>\n",
       "      <td>40.471</td>\n",
       "      <td>15.4</td>\n",
       "      <td>Lower middle income</td>\n",
       "    </tr>\n",
       "    <tr>\n",
       "      <th>194</th>\n",
       "      <td>Zimbabwe</td>\n",
       "      <td>ZWE</td>\n",
       "      <td>35.715</td>\n",
       "      <td>18.5</td>\n",
       "      <td>Low income</td>\n",
       "    </tr>\n",
       "  </tbody>\n",
       "</table>\n",
       "<p>195 rows × 5 columns</p>\n",
       "</div>"
      ],
      "text/plain": [
       "             Country Name Country Code  Birth rate  Internet users  \\\n",
       "0                   Aruba          ABW      10.244            78.9   \n",
       "1             Afghanistan          AFG      35.253             5.9   \n",
       "2                  Angola          AGO      45.985            19.1   \n",
       "3                 Albania          ALB      12.877            57.2   \n",
       "4    United Arab Emirates          ARE      11.044            88.0   \n",
       "..                    ...          ...         ...             ...   \n",
       "190           Yemen, Rep.          YEM      32.947            20.0   \n",
       "191          South Africa          ZAF      20.850            46.5   \n",
       "192      Congo, Dem. Rep.          COD      42.394             2.2   \n",
       "193                Zambia          ZMB      40.471            15.4   \n",
       "194              Zimbabwe          ZWE      35.715            18.5   \n",
       "\n",
       "            Income Group  \n",
       "0            High income  \n",
       "1             Low income  \n",
       "2    Upper middle income  \n",
       "3    Upper middle income  \n",
       "4            High income  \n",
       "..                   ...  \n",
       "190  Lower middle income  \n",
       "191  Upper middle income  \n",
       "192           Low income  \n",
       "193  Lower middle income  \n",
       "194           Low income  \n",
       "\n",
       "[195 rows x 5 columns]"
      ]
     },
     "execution_count": 38,
     "metadata": {},
     "output_type": "execute_result"
    }
   ],
   "source": [
    "Stat2"
   ]
  },
  {
   "cell_type": "markdown",
   "metadata": {},
   "source": [
    "Explore the dataset "
   ]
  },
  {
   "cell_type": "code",
   "execution_count": 39,
   "metadata": {},
   "outputs": [
    {
     "data": {
      "text/html": [
       "<div>\n",
       "<style scoped>\n",
       "    .dataframe tbody tr th:only-of-type {\n",
       "        vertical-align: middle;\n",
       "    }\n",
       "\n",
       "    .dataframe tbody tr th {\n",
       "        vertical-align: top;\n",
       "    }\n",
       "\n",
       "    .dataframe thead th {\n",
       "        text-align: right;\n",
       "    }\n",
       "</style>\n",
       "<table border=\"1\" class=\"dataframe\">\n",
       "  <thead>\n",
       "    <tr style=\"text-align: right;\">\n",
       "      <th></th>\n",
       "      <th>Country Name</th>\n",
       "      <th>Country Code</th>\n",
       "      <th>Birth rate</th>\n",
       "      <th>Internet users</th>\n",
       "      <th>Income Group</th>\n",
       "    </tr>\n",
       "  </thead>\n",
       "  <tbody>\n",
       "    <tr>\n",
       "      <th>0</th>\n",
       "      <td>Aruba</td>\n",
       "      <td>ABW</td>\n",
       "      <td>10.244</td>\n",
       "      <td>78.9</td>\n",
       "      <td>High income</td>\n",
       "    </tr>\n",
       "    <tr>\n",
       "      <th>1</th>\n",
       "      <td>Afghanistan</td>\n",
       "      <td>AFG</td>\n",
       "      <td>35.253</td>\n",
       "      <td>5.9</td>\n",
       "      <td>Low income</td>\n",
       "    </tr>\n",
       "    <tr>\n",
       "      <th>2</th>\n",
       "      <td>Angola</td>\n",
       "      <td>AGO</td>\n",
       "      <td>45.985</td>\n",
       "      <td>19.1</td>\n",
       "      <td>Upper middle income</td>\n",
       "    </tr>\n",
       "    <tr>\n",
       "      <th>3</th>\n",
       "      <td>Albania</td>\n",
       "      <td>ALB</td>\n",
       "      <td>12.877</td>\n",
       "      <td>57.2</td>\n",
       "      <td>Upper middle income</td>\n",
       "    </tr>\n",
       "    <tr>\n",
       "      <th>4</th>\n",
       "      <td>United Arab Emirates</td>\n",
       "      <td>ARE</td>\n",
       "      <td>11.044</td>\n",
       "      <td>88.0</td>\n",
       "      <td>High income</td>\n",
       "    </tr>\n",
       "    <tr>\n",
       "      <th>...</th>\n",
       "      <td>...</td>\n",
       "      <td>...</td>\n",
       "      <td>...</td>\n",
       "      <td>...</td>\n",
       "      <td>...</td>\n",
       "    </tr>\n",
       "    <tr>\n",
       "      <th>190</th>\n",
       "      <td>Yemen, Rep.</td>\n",
       "      <td>YEM</td>\n",
       "      <td>32.947</td>\n",
       "      <td>20.0</td>\n",
       "      <td>Lower middle income</td>\n",
       "    </tr>\n",
       "    <tr>\n",
       "      <th>191</th>\n",
       "      <td>South Africa</td>\n",
       "      <td>ZAF</td>\n",
       "      <td>20.850</td>\n",
       "      <td>46.5</td>\n",
       "      <td>Upper middle income</td>\n",
       "    </tr>\n",
       "    <tr>\n",
       "      <th>192</th>\n",
       "      <td>Congo, Dem. Rep.</td>\n",
       "      <td>COD</td>\n",
       "      <td>42.394</td>\n",
       "      <td>2.2</td>\n",
       "      <td>Low income</td>\n",
       "    </tr>\n",
       "    <tr>\n",
       "      <th>193</th>\n",
       "      <td>Zambia</td>\n",
       "      <td>ZMB</td>\n",
       "      <td>40.471</td>\n",
       "      <td>15.4</td>\n",
       "      <td>Lower middle income</td>\n",
       "    </tr>\n",
       "    <tr>\n",
       "      <th>194</th>\n",
       "      <td>Zimbabwe</td>\n",
       "      <td>ZWE</td>\n",
       "      <td>35.715</td>\n",
       "      <td>18.5</td>\n",
       "      <td>Low income</td>\n",
       "    </tr>\n",
       "  </tbody>\n",
       "</table>\n",
       "<p>195 rows × 5 columns</p>\n",
       "</div>"
      ],
      "text/plain": [
       "             Country Name Country Code  Birth rate  Internet users  \\\n",
       "0                   Aruba          ABW      10.244            78.9   \n",
       "1             Afghanistan          AFG      35.253             5.9   \n",
       "2                  Angola          AGO      45.985            19.1   \n",
       "3                 Albania          ALB      12.877            57.2   \n",
       "4    United Arab Emirates          ARE      11.044            88.0   \n",
       "..                    ...          ...         ...             ...   \n",
       "190           Yemen, Rep.          YEM      32.947            20.0   \n",
       "191          South Africa          ZAF      20.850            46.5   \n",
       "192      Congo, Dem. Rep.          COD      42.394             2.2   \n",
       "193                Zambia          ZMB      40.471            15.4   \n",
       "194              Zimbabwe          ZWE      35.715            18.5   \n",
       "\n",
       "            Income Group  \n",
       "0            High income  \n",
       "1             Low income  \n",
       "2    Upper middle income  \n",
       "3    Upper middle income  \n",
       "4            High income  \n",
       "..                   ...  \n",
       "190  Lower middle income  \n",
       "191  Upper middle income  \n",
       "192           Low income  \n",
       "193  Lower middle income  \n",
       "194           Low income  \n",
       "\n",
       "[195 rows x 5 columns]"
      ]
     },
     "execution_count": 39,
     "metadata": {},
     "output_type": "execute_result"
    }
   ],
   "source": [
    "# Full data frame \n",
    "Stat2"
   ]
  },
  {
   "cell_type": "code",
   "execution_count": 40,
   "metadata": {},
   "outputs": [
    {
     "data": {
      "text/plain": [
       "195"
      ]
     },
     "execution_count": 40,
     "metadata": {},
     "output_type": "execute_result"
    }
   ],
   "source": [
    "#number of rows \n",
    "len(Stat2) #195 rows imported \n",
    "# this is important to mention this count in comment if you are data scientist "
   ]
  },
  {
   "cell_type": "code",
   "execution_count": 41,
   "metadata": {},
   "outputs": [
    {
     "data": {
      "text/plain": [
       "Index(['Country Name', 'Country Code', 'Birth rate', 'Internet users',\n",
       "       'Income Group'],\n",
       "      dtype='object')"
      ]
     },
     "execution_count": 41,
     "metadata": {},
     "output_type": "execute_result"
    }
   ],
   "source": [
    "# see columns \n",
    "Stat2.columns"
   ]
  },
  {
   "cell_type": "code",
   "execution_count": 42,
   "metadata": {},
   "outputs": [
    {
     "data": {
      "text/plain": [
       "5"
      ]
     },
     "execution_count": 42,
     "metadata": {},
     "output_type": "execute_result"
    }
   ],
   "source": [
    "# number of columns \n",
    "len(Stat2.columns)"
   ]
  },
  {
   "cell_type": "code",
   "execution_count": 43,
   "metadata": {},
   "outputs": [
    {
     "data": {
      "text/html": [
       "<div>\n",
       "<style scoped>\n",
       "    .dataframe tbody tr th:only-of-type {\n",
       "        vertical-align: middle;\n",
       "    }\n",
       "\n",
       "    .dataframe tbody tr th {\n",
       "        vertical-align: top;\n",
       "    }\n",
       "\n",
       "    .dataframe thead th {\n",
       "        text-align: right;\n",
       "    }\n",
       "</style>\n",
       "<table border=\"1\" class=\"dataframe\">\n",
       "  <thead>\n",
       "    <tr style=\"text-align: right;\">\n",
       "      <th></th>\n",
       "      <th>Country Name</th>\n",
       "      <th>Country Code</th>\n",
       "      <th>Birth rate</th>\n",
       "      <th>Internet users</th>\n",
       "      <th>Income Group</th>\n",
       "    </tr>\n",
       "  </thead>\n",
       "  <tbody>\n",
       "    <tr>\n",
       "      <th>0</th>\n",
       "      <td>Aruba</td>\n",
       "      <td>ABW</td>\n",
       "      <td>10.244</td>\n",
       "      <td>78.9</td>\n",
       "      <td>High income</td>\n",
       "    </tr>\n",
       "    <tr>\n",
       "      <th>1</th>\n",
       "      <td>Afghanistan</td>\n",
       "      <td>AFG</td>\n",
       "      <td>35.253</td>\n",
       "      <td>5.9</td>\n",
       "      <td>Low income</td>\n",
       "    </tr>\n",
       "    <tr>\n",
       "      <th>2</th>\n",
       "      <td>Angola</td>\n",
       "      <td>AGO</td>\n",
       "      <td>45.985</td>\n",
       "      <td>19.1</td>\n",
       "      <td>Upper middle income</td>\n",
       "    </tr>\n",
       "    <tr>\n",
       "      <th>3</th>\n",
       "      <td>Albania</td>\n",
       "      <td>ALB</td>\n",
       "      <td>12.877</td>\n",
       "      <td>57.2</td>\n",
       "      <td>Upper middle income</td>\n",
       "    </tr>\n",
       "    <tr>\n",
       "      <th>4</th>\n",
       "      <td>United Arab Emirates</td>\n",
       "      <td>ARE</td>\n",
       "      <td>11.044</td>\n",
       "      <td>88.0</td>\n",
       "      <td>High income</td>\n",
       "    </tr>\n",
       "    <tr>\n",
       "      <th>5</th>\n",
       "      <td>Argentina</td>\n",
       "      <td>ARG</td>\n",
       "      <td>17.716</td>\n",
       "      <td>59.9</td>\n",
       "      <td>High income</td>\n",
       "    </tr>\n",
       "  </tbody>\n",
       "</table>\n",
       "</div>"
      ],
      "text/plain": [
       "           Country Name Country Code  Birth rate  Internet users  \\\n",
       "0                 Aruba          ABW      10.244            78.9   \n",
       "1           Afghanistan          AFG      35.253             5.9   \n",
       "2                Angola          AGO      45.985            19.1   \n",
       "3               Albania          ALB      12.877            57.2   \n",
       "4  United Arab Emirates          ARE      11.044            88.0   \n",
       "5             Argentina          ARG      17.716            59.9   \n",
       "\n",
       "          Income Group  \n",
       "0          High income  \n",
       "1           Low income  \n",
       "2  Upper middle income  \n",
       "3  Upper middle income  \n",
       "4          High income  \n",
       "5          High income  "
      ]
     },
     "execution_count": 43,
     "metadata": {},
     "output_type": "execute_result"
    }
   ],
   "source": [
    "# top 5 rows \n",
    "Stat2.head(6)"
   ]
  },
  {
   "cell_type": "code",
   "execution_count": 44,
   "metadata": {},
   "outputs": [
    {
     "data": {
      "text/html": [
       "<div>\n",
       "<style scoped>\n",
       "    .dataframe tbody tr th:only-of-type {\n",
       "        vertical-align: middle;\n",
       "    }\n",
       "\n",
       "    .dataframe tbody tr th {\n",
       "        vertical-align: top;\n",
       "    }\n",
       "\n",
       "    .dataframe thead th {\n",
       "        text-align: right;\n",
       "    }\n",
       "</style>\n",
       "<table border=\"1\" class=\"dataframe\">\n",
       "  <thead>\n",
       "    <tr style=\"text-align: right;\">\n",
       "      <th></th>\n",
       "      <th>Country Name</th>\n",
       "      <th>Country Code</th>\n",
       "      <th>Birth rate</th>\n",
       "      <th>Internet users</th>\n",
       "      <th>Income Group</th>\n",
       "    </tr>\n",
       "  </thead>\n",
       "  <tbody>\n",
       "    <tr>\n",
       "      <th>189</th>\n",
       "      <td>Samoa</td>\n",
       "      <td>WSM</td>\n",
       "      <td>26.172</td>\n",
       "      <td>15.3</td>\n",
       "      <td>Lower middle income</td>\n",
       "    </tr>\n",
       "    <tr>\n",
       "      <th>190</th>\n",
       "      <td>Yemen, Rep.</td>\n",
       "      <td>YEM</td>\n",
       "      <td>32.947</td>\n",
       "      <td>20.0</td>\n",
       "      <td>Lower middle income</td>\n",
       "    </tr>\n",
       "    <tr>\n",
       "      <th>191</th>\n",
       "      <td>South Africa</td>\n",
       "      <td>ZAF</td>\n",
       "      <td>20.850</td>\n",
       "      <td>46.5</td>\n",
       "      <td>Upper middle income</td>\n",
       "    </tr>\n",
       "    <tr>\n",
       "      <th>192</th>\n",
       "      <td>Congo, Dem. Rep.</td>\n",
       "      <td>COD</td>\n",
       "      <td>42.394</td>\n",
       "      <td>2.2</td>\n",
       "      <td>Low income</td>\n",
       "    </tr>\n",
       "    <tr>\n",
       "      <th>193</th>\n",
       "      <td>Zambia</td>\n",
       "      <td>ZMB</td>\n",
       "      <td>40.471</td>\n",
       "      <td>15.4</td>\n",
       "      <td>Lower middle income</td>\n",
       "    </tr>\n",
       "    <tr>\n",
       "      <th>194</th>\n",
       "      <td>Zimbabwe</td>\n",
       "      <td>ZWE</td>\n",
       "      <td>35.715</td>\n",
       "      <td>18.5</td>\n",
       "      <td>Low income</td>\n",
       "    </tr>\n",
       "  </tbody>\n",
       "</table>\n",
       "</div>"
      ],
      "text/plain": [
       "         Country Name Country Code  Birth rate  Internet users  \\\n",
       "189             Samoa          WSM      26.172            15.3   \n",
       "190       Yemen, Rep.          YEM      32.947            20.0   \n",
       "191      South Africa          ZAF      20.850            46.5   \n",
       "192  Congo, Dem. Rep.          COD      42.394             2.2   \n",
       "193            Zambia          ZMB      40.471            15.4   \n",
       "194          Zimbabwe          ZWE      35.715            18.5   \n",
       "\n",
       "            Income Group  \n",
       "189  Lower middle income  \n",
       "190  Lower middle income  \n",
       "191  Upper middle income  \n",
       "192           Low income  \n",
       "193  Lower middle income  \n",
       "194           Low income  "
      ]
     },
     "execution_count": 44,
     "metadata": {},
     "output_type": "execute_result"
    }
   ],
   "source": [
    "# bottom rows \n",
    "Stat2.tail(6) "
   ]
  },
  {
   "cell_type": "code",
   "execution_count": 45,
   "metadata": {},
   "outputs": [
    {
     "name": "stdout",
     "output_type": "stream",
     "text": [
      "<class 'pandas.core.frame.DataFrame'>\n",
      "RangeIndex: 195 entries, 0 to 194\n",
      "Data columns (total 5 columns):\n",
      " #   Column          Non-Null Count  Dtype  \n",
      "---  ------          --------------  -----  \n",
      " 0   Country Name    195 non-null    object \n",
      " 1   Country Code    195 non-null    object \n",
      " 2   Birth rate      195 non-null    float64\n",
      " 3   Internet users  195 non-null    float64\n",
      " 4   Income Group    195 non-null    object \n",
      "dtypes: float64(2), object(3)\n",
      "memory usage: 7.7+ KB\n"
     ]
    }
   ],
   "source": [
    "# 7. information on the columns \n",
    "Stat2.info() # like str() functio in R "
   ]
  },
  {
   "cell_type": "code",
   "execution_count": 46,
   "metadata": {},
   "outputs": [
    {
     "data": {
      "text/html": [
       "<div>\n",
       "<style scoped>\n",
       "    .dataframe tbody tr th:only-of-type {\n",
       "        vertical-align: middle;\n",
       "    }\n",
       "\n",
       "    .dataframe tbody tr th {\n",
       "        vertical-align: top;\n",
       "    }\n",
       "\n",
       "    .dataframe thead th {\n",
       "        text-align: right;\n",
       "    }\n",
       "</style>\n",
       "<table border=\"1\" class=\"dataframe\">\n",
       "  <thead>\n",
       "    <tr style=\"text-align: right;\">\n",
       "      <th></th>\n",
       "      <th>Birth rate</th>\n",
       "      <th>Internet users</th>\n",
       "    </tr>\n",
       "  </thead>\n",
       "  <tbody>\n",
       "    <tr>\n",
       "      <th>count</th>\n",
       "      <td>195.000000</td>\n",
       "      <td>195.000000</td>\n",
       "    </tr>\n",
       "    <tr>\n",
       "      <th>mean</th>\n",
       "      <td>21.469928</td>\n",
       "      <td>42.076471</td>\n",
       "    </tr>\n",
       "    <tr>\n",
       "      <th>std</th>\n",
       "      <td>10.605467</td>\n",
       "      <td>29.030788</td>\n",
       "    </tr>\n",
       "    <tr>\n",
       "      <th>min</th>\n",
       "      <td>7.900000</td>\n",
       "      <td>0.900000</td>\n",
       "    </tr>\n",
       "    <tr>\n",
       "      <th>25%</th>\n",
       "      <td>12.120500</td>\n",
       "      <td>14.520000</td>\n",
       "    </tr>\n",
       "    <tr>\n",
       "      <th>50%</th>\n",
       "      <td>19.680000</td>\n",
       "      <td>41.000000</td>\n",
       "    </tr>\n",
       "    <tr>\n",
       "      <th>75%</th>\n",
       "      <td>29.759500</td>\n",
       "      <td>66.225000</td>\n",
       "    </tr>\n",
       "    <tr>\n",
       "      <th>max</th>\n",
       "      <td>49.661000</td>\n",
       "      <td>96.546800</td>\n",
       "    </tr>\n",
       "  </tbody>\n",
       "</table>\n",
       "</div>"
      ],
      "text/plain": [
       "       Birth rate  Internet users\n",
       "count  195.000000      195.000000\n",
       "mean    21.469928       42.076471\n",
       "std     10.605467       29.030788\n",
       "min      7.900000        0.900000\n",
       "25%     12.120500       14.520000\n",
       "50%     19.680000       41.000000\n",
       "75%     29.759500       66.225000\n",
       "max     49.661000       96.546800"
      ]
     },
     "execution_count": 46,
     "metadata": {},
     "output_type": "execute_result"
    }
   ],
   "source": [
    "# 8. get stats on the columns \n",
    "Stat2.describe() # like summary() in R "
   ]
  },
  {
   "cell_type": "code",
   "execution_count": 47,
   "metadata": {},
   "outputs": [
    {
     "data": {
      "text/html": [
       "<div>\n",
       "<style scoped>\n",
       "    .dataframe tbody tr th:only-of-type {\n",
       "        vertical-align: middle;\n",
       "    }\n",
       "\n",
       "    .dataframe tbody tr th {\n",
       "        vertical-align: top;\n",
       "    }\n",
       "\n",
       "    .dataframe thead th {\n",
       "        text-align: right;\n",
       "    }\n",
       "</style>\n",
       "<table border=\"1\" class=\"dataframe\">\n",
       "  <thead>\n",
       "    <tr style=\"text-align: right;\">\n",
       "      <th></th>\n",
       "      <th>count</th>\n",
       "      <th>mean</th>\n",
       "      <th>std</th>\n",
       "      <th>min</th>\n",
       "      <th>25%</th>\n",
       "      <th>50%</th>\n",
       "      <th>75%</th>\n",
       "      <th>max</th>\n",
       "    </tr>\n",
       "  </thead>\n",
       "  <tbody>\n",
       "    <tr>\n",
       "      <th>Birth rate</th>\n",
       "      <td>195.0</td>\n",
       "      <td>21.469928</td>\n",
       "      <td>10.605467</td>\n",
       "      <td>7.9</td>\n",
       "      <td>12.1205</td>\n",
       "      <td>19.68</td>\n",
       "      <td>29.7595</td>\n",
       "      <td>49.6610</td>\n",
       "    </tr>\n",
       "    <tr>\n",
       "      <th>Internet users</th>\n",
       "      <td>195.0</td>\n",
       "      <td>42.076471</td>\n",
       "      <td>29.030788</td>\n",
       "      <td>0.9</td>\n",
       "      <td>14.5200</td>\n",
       "      <td>41.00</td>\n",
       "      <td>66.2250</td>\n",
       "      <td>96.5468</td>\n",
       "    </tr>\n",
       "  </tbody>\n",
       "</table>\n",
       "</div>"
      ],
      "text/plain": [
       "                count       mean        std  min      25%    50%      75%  \\\n",
       "Birth rate      195.0  21.469928  10.605467  7.9  12.1205  19.68  29.7595   \n",
       "Internet users  195.0  42.076471  29.030788  0.9  14.5200  41.00  66.2250   \n",
       "\n",
       "                    max  \n",
       "Birth rate      49.6610  \n",
       "Internet users  96.5468  "
      ]
     },
     "execution_count": 47,
     "metadata": {},
     "output_type": "execute_result"
    }
   ],
   "source": [
    "# # transpose the matrix with describe function \n",
    "\n",
    "Stat2.describe().transpose()"
   ]
  },
  {
   "cell_type": "code",
   "execution_count": 48,
   "metadata": {},
   "outputs": [
    {
     "data": {
      "text/html": [
       "<div>\n",
       "<style scoped>\n",
       "    .dataframe tbody tr th:only-of-type {\n",
       "        vertical-align: middle;\n",
       "    }\n",
       "\n",
       "    .dataframe tbody tr th {\n",
       "        vertical-align: top;\n",
       "    }\n",
       "\n",
       "    .dataframe thead th {\n",
       "        text-align: right;\n",
       "    }\n",
       "</style>\n",
       "<table border=\"1\" class=\"dataframe\">\n",
       "  <thead>\n",
       "    <tr style=\"text-align: right;\">\n",
       "      <th></th>\n",
       "      <th>Country Name</th>\n",
       "      <th>Country Code</th>\n",
       "      <th>Birth rate</th>\n",
       "      <th>Internet users</th>\n",
       "      <th>Income Group</th>\n",
       "    </tr>\n",
       "  </thead>\n",
       "  <tbody>\n",
       "    <tr>\n",
       "      <th>0</th>\n",
       "      <td>Aruba</td>\n",
       "      <td>ABW</td>\n",
       "      <td>10.244</td>\n",
       "      <td>78.9</td>\n",
       "      <td>High income</td>\n",
       "    </tr>\n",
       "    <tr>\n",
       "      <th>1</th>\n",
       "      <td>Afghanistan</td>\n",
       "      <td>AFG</td>\n",
       "      <td>35.253</td>\n",
       "      <td>5.9</td>\n",
       "      <td>Low income</td>\n",
       "    </tr>\n",
       "    <tr>\n",
       "      <th>2</th>\n",
       "      <td>Angola</td>\n",
       "      <td>AGO</td>\n",
       "      <td>45.985</td>\n",
       "      <td>19.1</td>\n",
       "      <td>Upper middle income</td>\n",
       "    </tr>\n",
       "    <tr>\n",
       "      <th>3</th>\n",
       "      <td>Albania</td>\n",
       "      <td>ALB</td>\n",
       "      <td>12.877</td>\n",
       "      <td>57.2</td>\n",
       "      <td>Upper middle income</td>\n",
       "    </tr>\n",
       "    <tr>\n",
       "      <th>4</th>\n",
       "      <td>United Arab Emirates</td>\n",
       "      <td>ARE</td>\n",
       "      <td>11.044</td>\n",
       "      <td>88.0</td>\n",
       "      <td>High income</td>\n",
       "    </tr>\n",
       "  </tbody>\n",
       "</table>\n",
       "</div>"
      ],
      "text/plain": [
       "           Country Name Country Code  Birth rate  Internet users  \\\n",
       "0                 Aruba          ABW      10.244            78.9   \n",
       "1           Afghanistan          AFG      35.253             5.9   \n",
       "2                Angola          AGO      45.985            19.1   \n",
       "3               Albania          ALB      12.877            57.2   \n",
       "4  United Arab Emirates          ARE      11.044            88.0   \n",
       "\n",
       "          Income Group  \n",
       "0          High income  \n",
       "1           Low income  \n",
       "2  Upper middle income  \n",
       "3  Upper middle income  \n",
       "4          High income  "
      ]
     },
     "execution_count": 48,
     "metadata": {},
     "output_type": "execute_result"
    }
   ],
   "source": [
    "# remaining columns of a DF \n",
    "Stat2.head()\n",
    "# you need to clean the data set and rename the columns "
   ]
  },
  {
   "cell_type": "code",
   "execution_count": 49,
   "metadata": {},
   "outputs": [
    {
     "data": {
      "text/plain": [
       "Index(['Country Name', 'Country Code', 'Birth rate', 'Internet users',\n",
       "       'Income Group'],\n",
       "      dtype='object')"
      ]
     },
     "execution_count": 49,
     "metadata": {},
     "output_type": "execute_result"
    }
   ],
   "source": [
    "Stat2.columns"
   ]
  },
  {
   "cell_type": "code",
   "execution_count": 50,
   "metadata": {},
   "outputs": [],
   "source": [
    "Stat2.columns = ['CountryName', 'CountryCode', 'BirthRate', 'InternetUsers', 'IncomeGroup']"
   ]
  },
  {
   "cell_type": "code",
   "execution_count": 51,
   "metadata": {},
   "outputs": [
    {
     "data": {
      "text/html": [
       "<div>\n",
       "<style scoped>\n",
       "    .dataframe tbody tr th:only-of-type {\n",
       "        vertical-align: middle;\n",
       "    }\n",
       "\n",
       "    .dataframe tbody tr th {\n",
       "        vertical-align: top;\n",
       "    }\n",
       "\n",
       "    .dataframe thead th {\n",
       "        text-align: right;\n",
       "    }\n",
       "</style>\n",
       "<table border=\"1\" class=\"dataframe\">\n",
       "  <thead>\n",
       "    <tr style=\"text-align: right;\">\n",
       "      <th></th>\n",
       "      <th>CountryName</th>\n",
       "      <th>CountryCode</th>\n",
       "      <th>BirthRate</th>\n",
       "      <th>InternetUsers</th>\n",
       "      <th>IncomeGroup</th>\n",
       "    </tr>\n",
       "  </thead>\n",
       "  <tbody>\n",
       "    <tr>\n",
       "      <th>0</th>\n",
       "      <td>Aruba</td>\n",
       "      <td>ABW</td>\n",
       "      <td>10.244</td>\n",
       "      <td>78.9</td>\n",
       "      <td>High income</td>\n",
       "    </tr>\n",
       "    <tr>\n",
       "      <th>1</th>\n",
       "      <td>Afghanistan</td>\n",
       "      <td>AFG</td>\n",
       "      <td>35.253</td>\n",
       "      <td>5.9</td>\n",
       "      <td>Low income</td>\n",
       "    </tr>\n",
       "    <tr>\n",
       "      <th>2</th>\n",
       "      <td>Angola</td>\n",
       "      <td>AGO</td>\n",
       "      <td>45.985</td>\n",
       "      <td>19.1</td>\n",
       "      <td>Upper middle income</td>\n",
       "    </tr>\n",
       "    <tr>\n",
       "      <th>3</th>\n",
       "      <td>Albania</td>\n",
       "      <td>ALB</td>\n",
       "      <td>12.877</td>\n",
       "      <td>57.2</td>\n",
       "      <td>Upper middle income</td>\n",
       "    </tr>\n",
       "    <tr>\n",
       "      <th>4</th>\n",
       "      <td>United Arab Emirates</td>\n",
       "      <td>ARE</td>\n",
       "      <td>11.044</td>\n",
       "      <td>88.0</td>\n",
       "      <td>High income</td>\n",
       "    </tr>\n",
       "    <tr>\n",
       "      <th>...</th>\n",
       "      <td>...</td>\n",
       "      <td>...</td>\n",
       "      <td>...</td>\n",
       "      <td>...</td>\n",
       "      <td>...</td>\n",
       "    </tr>\n",
       "    <tr>\n",
       "      <th>190</th>\n",
       "      <td>Yemen, Rep.</td>\n",
       "      <td>YEM</td>\n",
       "      <td>32.947</td>\n",
       "      <td>20.0</td>\n",
       "      <td>Lower middle income</td>\n",
       "    </tr>\n",
       "    <tr>\n",
       "      <th>191</th>\n",
       "      <td>South Africa</td>\n",
       "      <td>ZAF</td>\n",
       "      <td>20.850</td>\n",
       "      <td>46.5</td>\n",
       "      <td>Upper middle income</td>\n",
       "    </tr>\n",
       "    <tr>\n",
       "      <th>192</th>\n",
       "      <td>Congo, Dem. Rep.</td>\n",
       "      <td>COD</td>\n",
       "      <td>42.394</td>\n",
       "      <td>2.2</td>\n",
       "      <td>Low income</td>\n",
       "    </tr>\n",
       "    <tr>\n",
       "      <th>193</th>\n",
       "      <td>Zambia</td>\n",
       "      <td>ZMB</td>\n",
       "      <td>40.471</td>\n",
       "      <td>15.4</td>\n",
       "      <td>Lower middle income</td>\n",
       "    </tr>\n",
       "    <tr>\n",
       "      <th>194</th>\n",
       "      <td>Zimbabwe</td>\n",
       "      <td>ZWE</td>\n",
       "      <td>35.715</td>\n",
       "      <td>18.5</td>\n",
       "      <td>Low income</td>\n",
       "    </tr>\n",
       "  </tbody>\n",
       "</table>\n",
       "<p>195 rows × 5 columns</p>\n",
       "</div>"
      ],
      "text/plain": [
       "              CountryName CountryCode  BirthRate  InternetUsers  \\\n",
       "0                   Aruba         ABW     10.244           78.9   \n",
       "1             Afghanistan         AFG     35.253            5.9   \n",
       "2                  Angola         AGO     45.985           19.1   \n",
       "3                 Albania         ALB     12.877           57.2   \n",
       "4    United Arab Emirates         ARE     11.044           88.0   \n",
       "..                    ...         ...        ...            ...   \n",
       "190           Yemen, Rep.         YEM     32.947           20.0   \n",
       "191          South Africa         ZAF     20.850           46.5   \n",
       "192      Congo, Dem. Rep.         COD     42.394            2.2   \n",
       "193                Zambia         ZMB     40.471           15.4   \n",
       "194              Zimbabwe         ZWE     35.715           18.5   \n",
       "\n",
       "             IncomeGroup  \n",
       "0            High income  \n",
       "1             Low income  \n",
       "2    Upper middle income  \n",
       "3    Upper middle income  \n",
       "4            High income  \n",
       "..                   ...  \n",
       "190  Lower middle income  \n",
       "191  Upper middle income  \n",
       "192           Low income  \n",
       "193  Lower middle income  \n",
       "194           Low income  \n",
       "\n",
       "[195 rows x 5 columns]"
      ]
     },
     "execution_count": 51,
     "metadata": {},
     "output_type": "execute_result"
    }
   ],
   "source": [
    "Stat2"
   ]
  },
  {
   "cell_type": "code",
   "execution_count": 52,
   "metadata": {},
   "outputs": [
    {
     "data": {
      "text/html": [
       "<div>\n",
       "<style scoped>\n",
       "    .dataframe tbody tr th:only-of-type {\n",
       "        vertical-align: middle;\n",
       "    }\n",
       "\n",
       "    .dataframe tbody tr th {\n",
       "        vertical-align: top;\n",
       "    }\n",
       "\n",
       "    .dataframe thead th {\n",
       "        text-align: right;\n",
       "    }\n",
       "</style>\n",
       "<table border=\"1\" class=\"dataframe\">\n",
       "  <thead>\n",
       "    <tr style=\"text-align: right;\">\n",
       "      <th></th>\n",
       "      <th>CountryName</th>\n",
       "      <th>CountryCode</th>\n",
       "      <th>BirthRate</th>\n",
       "      <th>InternetUsers</th>\n",
       "      <th>IncomeGroup</th>\n",
       "    </tr>\n",
       "  </thead>\n",
       "  <tbody>\n",
       "    <tr>\n",
       "      <th>0</th>\n",
       "      <td>Aruba</td>\n",
       "      <td>ABW</td>\n",
       "      <td>10.244</td>\n",
       "      <td>78.9</td>\n",
       "      <td>High income</td>\n",
       "    </tr>\n",
       "    <tr>\n",
       "      <th>1</th>\n",
       "      <td>Afghanistan</td>\n",
       "      <td>AFG</td>\n",
       "      <td>35.253</td>\n",
       "      <td>5.9</td>\n",
       "      <td>Low income</td>\n",
       "    </tr>\n",
       "    <tr>\n",
       "      <th>2</th>\n",
       "      <td>Angola</td>\n",
       "      <td>AGO</td>\n",
       "      <td>45.985</td>\n",
       "      <td>19.1</td>\n",
       "      <td>Upper middle income</td>\n",
       "    </tr>\n",
       "    <tr>\n",
       "      <th>3</th>\n",
       "      <td>Albania</td>\n",
       "      <td>ALB</td>\n",
       "      <td>12.877</td>\n",
       "      <td>57.2</td>\n",
       "      <td>Upper middle income</td>\n",
       "    </tr>\n",
       "    <tr>\n",
       "      <th>4</th>\n",
       "      <td>United Arab Emirates</td>\n",
       "      <td>ARE</td>\n",
       "      <td>11.044</td>\n",
       "      <td>88.0</td>\n",
       "      <td>High income</td>\n",
       "    </tr>\n",
       "  </tbody>\n",
       "</table>\n",
       "</div>"
      ],
      "text/plain": [
       "            CountryName CountryCode  BirthRate  InternetUsers  \\\n",
       "0                 Aruba         ABW     10.244           78.9   \n",
       "1           Afghanistan         AFG     35.253            5.9   \n",
       "2                Angola         AGO     45.985           19.1   \n",
       "3               Albania         ALB     12.877           57.2   \n",
       "4  United Arab Emirates         ARE     11.044           88.0   \n",
       "\n",
       "           IncomeGroup  \n",
       "0          High income  \n",
       "1           Low income  \n",
       "2  Upper middle income  \n",
       "3  Upper middle income  \n",
       "4          High income  "
      ]
     },
     "execution_count": 52,
     "metadata": {},
     "output_type": "execute_result"
    }
   ],
   "source": [
    "# subsetting dataframe in Pandas \n",
    "Stat2.head()\n",
    "# 3 part will do that \n",
    "# - Rows \n",
    "# - Columns \n",
    "# - Combine the two "
   ]
  },
  {
   "cell_type": "code",
   "execution_count": 53,
   "metadata": {},
   "outputs": [
    {
     "data": {
      "text/html": [
       "<div>\n",
       "<style scoped>\n",
       "    .dataframe tbody tr th:only-of-type {\n",
       "        vertical-align: middle;\n",
       "    }\n",
       "\n",
       "    .dataframe tbody tr th {\n",
       "        vertical-align: top;\n",
       "    }\n",
       "\n",
       "    .dataframe thead th {\n",
       "        text-align: right;\n",
       "    }\n",
       "</style>\n",
       "<table border=\"1\" class=\"dataframe\">\n",
       "  <thead>\n",
       "    <tr style=\"text-align: right;\">\n",
       "      <th></th>\n",
       "      <th>CountryName</th>\n",
       "      <th>CountryCode</th>\n",
       "      <th>BirthRate</th>\n",
       "      <th>InternetUsers</th>\n",
       "      <th>IncomeGroup</th>\n",
       "    </tr>\n",
       "  </thead>\n",
       "  <tbody>\n",
       "    <tr>\n",
       "      <th>2</th>\n",
       "      <td>Angola</td>\n",
       "      <td>AGO</td>\n",
       "      <td>45.985</td>\n",
       "      <td>19.1</td>\n",
       "      <td>Upper middle income</td>\n",
       "    </tr>\n",
       "    <tr>\n",
       "      <th>3</th>\n",
       "      <td>Albania</td>\n",
       "      <td>ALB</td>\n",
       "      <td>12.877</td>\n",
       "      <td>57.2</td>\n",
       "      <td>Upper middle income</td>\n",
       "    </tr>\n",
       "  </tbody>\n",
       "</table>\n",
       "</div>"
      ],
      "text/plain": [
       "  CountryName CountryCode  BirthRate  InternetUsers          IncomeGroup\n",
       "2      Angola         AGO     45.985           19.1  Upper middle income\n",
       "3     Albania         ALB     12.877           57.2  Upper middle income"
      ]
     },
     "execution_count": 53,
     "metadata": {},
     "output_type": "execute_result"
    }
   ],
   "source": [
    "# Rows \n",
    "Stat2[2:4]\n",
    "# how pythong knows that we need to check the rows not the columns \n",
    "# slicing the data in rows and then columns "
   ]
  },
  {
   "cell_type": "code",
   "execution_count": 54,
   "metadata": {},
   "outputs": [
    {
     "data": {
      "text/html": [
       "<div>\n",
       "<style scoped>\n",
       "    .dataframe tbody tr th:only-of-type {\n",
       "        vertical-align: middle;\n",
       "    }\n",
       "\n",
       "    .dataframe tbody tr th {\n",
       "        vertical-align: top;\n",
       "    }\n",
       "\n",
       "    .dataframe thead th {\n",
       "        text-align: right;\n",
       "    }\n",
       "</style>\n",
       "<table border=\"1\" class=\"dataframe\">\n",
       "  <thead>\n",
       "    <tr style=\"text-align: right;\">\n",
       "      <th></th>\n",
       "      <th>CountryName</th>\n",
       "      <th>CountryCode</th>\n",
       "      <th>BirthRate</th>\n",
       "      <th>InternetUsers</th>\n",
       "      <th>IncomeGroup</th>\n",
       "    </tr>\n",
       "  </thead>\n",
       "  <tbody>\n",
       "    <tr>\n",
       "      <th>185</th>\n",
       "      <td>Virgin Islands (U.S.)</td>\n",
       "      <td>VIR</td>\n",
       "      <td>10.700</td>\n",
       "      <td>45.3</td>\n",
       "      <td>High income</td>\n",
       "    </tr>\n",
       "    <tr>\n",
       "      <th>186</th>\n",
       "      <td>Vietnam</td>\n",
       "      <td>VNM</td>\n",
       "      <td>15.537</td>\n",
       "      <td>43.9</td>\n",
       "      <td>Lower middle income</td>\n",
       "    </tr>\n",
       "    <tr>\n",
       "      <th>187</th>\n",
       "      <td>Vanuatu</td>\n",
       "      <td>VUT</td>\n",
       "      <td>26.739</td>\n",
       "      <td>11.3</td>\n",
       "      <td>Lower middle income</td>\n",
       "    </tr>\n",
       "    <tr>\n",
       "      <th>188</th>\n",
       "      <td>West Bank and Gaza</td>\n",
       "      <td>PSE</td>\n",
       "      <td>30.394</td>\n",
       "      <td>46.6</td>\n",
       "      <td>Lower middle income</td>\n",
       "    </tr>\n",
       "    <tr>\n",
       "      <th>189</th>\n",
       "      <td>Samoa</td>\n",
       "      <td>WSM</td>\n",
       "      <td>26.172</td>\n",
       "      <td>15.3</td>\n",
       "      <td>Lower middle income</td>\n",
       "    </tr>\n",
       "    <tr>\n",
       "      <th>190</th>\n",
       "      <td>Yemen, Rep.</td>\n",
       "      <td>YEM</td>\n",
       "      <td>32.947</td>\n",
       "      <td>20.0</td>\n",
       "      <td>Lower middle income</td>\n",
       "    </tr>\n",
       "    <tr>\n",
       "      <th>191</th>\n",
       "      <td>South Africa</td>\n",
       "      <td>ZAF</td>\n",
       "      <td>20.850</td>\n",
       "      <td>46.5</td>\n",
       "      <td>Upper middle income</td>\n",
       "    </tr>\n",
       "    <tr>\n",
       "      <th>192</th>\n",
       "      <td>Congo, Dem. Rep.</td>\n",
       "      <td>COD</td>\n",
       "      <td>42.394</td>\n",
       "      <td>2.2</td>\n",
       "      <td>Low income</td>\n",
       "    </tr>\n",
       "    <tr>\n",
       "      <th>193</th>\n",
       "      <td>Zambia</td>\n",
       "      <td>ZMB</td>\n",
       "      <td>40.471</td>\n",
       "      <td>15.4</td>\n",
       "      <td>Lower middle income</td>\n",
       "    </tr>\n",
       "    <tr>\n",
       "      <th>194</th>\n",
       "      <td>Zimbabwe</td>\n",
       "      <td>ZWE</td>\n",
       "      <td>35.715</td>\n",
       "      <td>18.5</td>\n",
       "      <td>Low income</td>\n",
       "    </tr>\n",
       "  </tbody>\n",
       "</table>\n",
       "</div>"
      ],
      "text/plain": [
       "               CountryName CountryCode  BirthRate  InternetUsers  \\\n",
       "185  Virgin Islands (U.S.)         VIR     10.700           45.3   \n",
       "186                Vietnam         VNM     15.537           43.9   \n",
       "187                Vanuatu         VUT     26.739           11.3   \n",
       "188     West Bank and Gaza         PSE     30.394           46.6   \n",
       "189                  Samoa         WSM     26.172           15.3   \n",
       "190            Yemen, Rep.         YEM     32.947           20.0   \n",
       "191           South Africa         ZAF     20.850           46.5   \n",
       "192       Congo, Dem. Rep.         COD     42.394            2.2   \n",
       "193                 Zambia         ZMB     40.471           15.4   \n",
       "194               Zimbabwe         ZWE     35.715           18.5   \n",
       "\n",
       "             IncomeGroup  \n",
       "185          High income  \n",
       "186  Lower middle income  \n",
       "187  Lower middle income  \n",
       "188  Lower middle income  \n",
       "189  Lower middle income  \n",
       "190  Lower middle income  \n",
       "191  Upper middle income  \n",
       "192           Low income  \n",
       "193  Lower middle income  \n",
       "194           Low income  "
      ]
     },
     "execution_count": 54,
     "metadata": {},
     "output_type": "execute_result"
    }
   ],
   "source": [
    "Stat2[185:]"
   ]
  },
  {
   "cell_type": "code",
   "execution_count": 55,
   "metadata": {},
   "outputs": [
    {
     "data": {
      "text/html": [
       "<div>\n",
       "<style scoped>\n",
       "    .dataframe tbody tr th:only-of-type {\n",
       "        vertical-align: middle;\n",
       "    }\n",
       "\n",
       "    .dataframe tbody tr th {\n",
       "        vertical-align: top;\n",
       "    }\n",
       "\n",
       "    .dataframe thead th {\n",
       "        text-align: right;\n",
       "    }\n",
       "</style>\n",
       "<table border=\"1\" class=\"dataframe\">\n",
       "  <thead>\n",
       "    <tr style=\"text-align: right;\">\n",
       "      <th></th>\n",
       "      <th>CountryName</th>\n",
       "      <th>CountryCode</th>\n",
       "      <th>BirthRate</th>\n",
       "      <th>InternetUsers</th>\n",
       "      <th>IncomeGroup</th>\n",
       "    </tr>\n",
       "  </thead>\n",
       "  <tbody>\n",
       "    <tr>\n",
       "      <th>194</th>\n",
       "      <td>Zimbabwe</td>\n",
       "      <td>ZWE</td>\n",
       "      <td>35.715</td>\n",
       "      <td>18.5</td>\n",
       "      <td>Low income</td>\n",
       "    </tr>\n",
       "    <tr>\n",
       "      <th>193</th>\n",
       "      <td>Zambia</td>\n",
       "      <td>ZMB</td>\n",
       "      <td>40.471</td>\n",
       "      <td>15.4</td>\n",
       "      <td>Lower middle income</td>\n",
       "    </tr>\n",
       "    <tr>\n",
       "      <th>192</th>\n",
       "      <td>Congo, Dem. Rep.</td>\n",
       "      <td>COD</td>\n",
       "      <td>42.394</td>\n",
       "      <td>2.2</td>\n",
       "      <td>Low income</td>\n",
       "    </tr>\n",
       "    <tr>\n",
       "      <th>191</th>\n",
       "      <td>South Africa</td>\n",
       "      <td>ZAF</td>\n",
       "      <td>20.850</td>\n",
       "      <td>46.5</td>\n",
       "      <td>Upper middle income</td>\n",
       "    </tr>\n",
       "    <tr>\n",
       "      <th>190</th>\n",
       "      <td>Yemen, Rep.</td>\n",
       "      <td>YEM</td>\n",
       "      <td>32.947</td>\n",
       "      <td>20.0</td>\n",
       "      <td>Lower middle income</td>\n",
       "    </tr>\n",
       "    <tr>\n",
       "      <th>...</th>\n",
       "      <td>...</td>\n",
       "      <td>...</td>\n",
       "      <td>...</td>\n",
       "      <td>...</td>\n",
       "      <td>...</td>\n",
       "    </tr>\n",
       "    <tr>\n",
       "      <th>4</th>\n",
       "      <td>United Arab Emirates</td>\n",
       "      <td>ARE</td>\n",
       "      <td>11.044</td>\n",
       "      <td>88.0</td>\n",
       "      <td>High income</td>\n",
       "    </tr>\n",
       "    <tr>\n",
       "      <th>3</th>\n",
       "      <td>Albania</td>\n",
       "      <td>ALB</td>\n",
       "      <td>12.877</td>\n",
       "      <td>57.2</td>\n",
       "      <td>Upper middle income</td>\n",
       "    </tr>\n",
       "    <tr>\n",
       "      <th>2</th>\n",
       "      <td>Angola</td>\n",
       "      <td>AGO</td>\n",
       "      <td>45.985</td>\n",
       "      <td>19.1</td>\n",
       "      <td>Upper middle income</td>\n",
       "    </tr>\n",
       "    <tr>\n",
       "      <th>1</th>\n",
       "      <td>Afghanistan</td>\n",
       "      <td>AFG</td>\n",
       "      <td>35.253</td>\n",
       "      <td>5.9</td>\n",
       "      <td>Low income</td>\n",
       "    </tr>\n",
       "    <tr>\n",
       "      <th>0</th>\n",
       "      <td>Aruba</td>\n",
       "      <td>ABW</td>\n",
       "      <td>10.244</td>\n",
       "      <td>78.9</td>\n",
       "      <td>High income</td>\n",
       "    </tr>\n",
       "  </tbody>\n",
       "</table>\n",
       "<p>195 rows × 5 columns</p>\n",
       "</div>"
      ],
      "text/plain": [
       "              CountryName CountryCode  BirthRate  InternetUsers  \\\n",
       "194              Zimbabwe         ZWE     35.715           18.5   \n",
       "193                Zambia         ZMB     40.471           15.4   \n",
       "192      Congo, Dem. Rep.         COD     42.394            2.2   \n",
       "191          South Africa         ZAF     20.850           46.5   \n",
       "190           Yemen, Rep.         YEM     32.947           20.0   \n",
       "..                    ...         ...        ...            ...   \n",
       "4    United Arab Emirates         ARE     11.044           88.0   \n",
       "3                 Albania         ALB     12.877           57.2   \n",
       "2                  Angola         AGO     45.985           19.1   \n",
       "1             Afghanistan         AFG     35.253            5.9   \n",
       "0                   Aruba         ABW     10.244           78.9   \n",
       "\n",
       "             IncomeGroup  \n",
       "194           Low income  \n",
       "193  Lower middle income  \n",
       "192           Low income  \n",
       "191  Upper middle income  \n",
       "190  Lower middle income  \n",
       "..                   ...  \n",
       "4            High income  \n",
       "3    Upper middle income  \n",
       "2    Upper middle income  \n",
       "1             Low income  \n",
       "0            High income  \n",
       "\n",
       "[195 rows x 5 columns]"
      ]
     },
     "execution_count": 55,
     "metadata": {},
     "output_type": "execute_result"
    }
   ],
   "source": [
    "# Excercise \n",
    "# reverse the data frame \n",
    "Stat2[::-1]"
   ]
  },
  {
   "cell_type": "code",
   "execution_count": 56,
   "metadata": {},
   "outputs": [
    {
     "data": {
      "text/html": [
       "<div>\n",
       "<style scoped>\n",
       "    .dataframe tbody tr th:only-of-type {\n",
       "        vertical-align: middle;\n",
       "    }\n",
       "\n",
       "    .dataframe tbody tr th {\n",
       "        vertical-align: top;\n",
       "    }\n",
       "\n",
       "    .dataframe thead th {\n",
       "        text-align: right;\n",
       "    }\n",
       "</style>\n",
       "<table border=\"1\" class=\"dataframe\">\n",
       "  <thead>\n",
       "    <tr style=\"text-align: right;\">\n",
       "      <th></th>\n",
       "      <th>CountryName</th>\n",
       "      <th>CountryCode</th>\n",
       "      <th>BirthRate</th>\n",
       "      <th>InternetUsers</th>\n",
       "      <th>IncomeGroup</th>\n",
       "    </tr>\n",
       "  </thead>\n",
       "  <tbody>\n",
       "    <tr>\n",
       "      <th>0</th>\n",
       "      <td>Aruba</td>\n",
       "      <td>ABW</td>\n",
       "      <td>10.244</td>\n",
       "      <td>78.9000</td>\n",
       "      <td>High income</td>\n",
       "    </tr>\n",
       "    <tr>\n",
       "      <th>20</th>\n",
       "      <td>Belarus</td>\n",
       "      <td>BLR</td>\n",
       "      <td>12.500</td>\n",
       "      <td>54.1700</td>\n",
       "      <td>Upper middle income</td>\n",
       "    </tr>\n",
       "    <tr>\n",
       "      <th>40</th>\n",
       "      <td>Costa Rica</td>\n",
       "      <td>CRI</td>\n",
       "      <td>15.022</td>\n",
       "      <td>45.9600</td>\n",
       "      <td>Upper middle income</td>\n",
       "    </tr>\n",
       "    <tr>\n",
       "      <th>60</th>\n",
       "      <td>Gabon</td>\n",
       "      <td>GAB</td>\n",
       "      <td>30.555</td>\n",
       "      <td>9.2000</td>\n",
       "      <td>Upper middle income</td>\n",
       "    </tr>\n",
       "    <tr>\n",
       "      <th>80</th>\n",
       "      <td>India</td>\n",
       "      <td>IND</td>\n",
       "      <td>20.291</td>\n",
       "      <td>15.1000</td>\n",
       "      <td>Lower middle income</td>\n",
       "    </tr>\n",
       "    <tr>\n",
       "      <th>100</th>\n",
       "      <td>Libya</td>\n",
       "      <td>LBY</td>\n",
       "      <td>21.425</td>\n",
       "      <td>16.5000</td>\n",
       "      <td>Upper middle income</td>\n",
       "    </tr>\n",
       "    <tr>\n",
       "      <th>120</th>\n",
       "      <td>Mozambique</td>\n",
       "      <td>MOZ</td>\n",
       "      <td>39.705</td>\n",
       "      <td>5.4000</td>\n",
       "      <td>Low income</td>\n",
       "    </tr>\n",
       "    <tr>\n",
       "      <th>140</th>\n",
       "      <td>Poland</td>\n",
       "      <td>POL</td>\n",
       "      <td>9.600</td>\n",
       "      <td>62.8492</td>\n",
       "      <td>High income</td>\n",
       "    </tr>\n",
       "    <tr>\n",
       "      <th>160</th>\n",
       "      <td>Suriname</td>\n",
       "      <td>SUR</td>\n",
       "      <td>18.455</td>\n",
       "      <td>37.4000</td>\n",
       "      <td>Upper middle income</td>\n",
       "    </tr>\n",
       "    <tr>\n",
       "      <th>180</th>\n",
       "      <td>Uruguay</td>\n",
       "      <td>URY</td>\n",
       "      <td>14.374</td>\n",
       "      <td>57.6900</td>\n",
       "      <td>High income</td>\n",
       "    </tr>\n",
       "  </tbody>\n",
       "</table>\n",
       "</div>"
      ],
      "text/plain": [
       "    CountryName CountryCode  BirthRate  InternetUsers          IncomeGroup\n",
       "0         Aruba         ABW     10.244        78.9000          High income\n",
       "20      Belarus         BLR     12.500        54.1700  Upper middle income\n",
       "40   Costa Rica         CRI     15.022        45.9600  Upper middle income\n",
       "60        Gabon         GAB     30.555         9.2000  Upper middle income\n",
       "80        India         IND     20.291        15.1000  Lower middle income\n",
       "100       Libya         LBY     21.425        16.5000  Upper middle income\n",
       "120  Mozambique         MOZ     39.705         5.4000           Low income\n",
       "140      Poland         POL      9.600        62.8492          High income\n",
       "160    Suriname         SUR     18.455        37.4000  Upper middle income\n",
       "180     Uruguay         URY     14.374        57.6900          High income"
      ]
     },
     "execution_count": 56,
     "metadata": {},
     "output_type": "execute_result"
    }
   ],
   "source": [
    "# excercise \n",
    "# get only 20 rth row \n",
    "Stat2[::20]"
   ]
  },
  {
   "cell_type": "code",
   "execution_count": 57,
   "metadata": {},
   "outputs": [
    {
     "data": {
      "text/plain": [
       "Index(['CountryName', 'CountryCode', 'BirthRate', 'InternetUsers',\n",
       "       'IncomeGroup'],\n",
       "      dtype='object')"
      ]
     },
     "execution_count": 57,
     "metadata": {},
     "output_type": "execute_result"
    }
   ],
   "source": [
    "# columns \n",
    "Stat2.columns"
   ]
  },
  {
   "cell_type": "code",
   "execution_count": 58,
   "metadata": {},
   "outputs": [
    {
     "data": {
      "text/html": [
       "<div>\n",
       "<style scoped>\n",
       "    .dataframe tbody tr th:only-of-type {\n",
       "        vertical-align: middle;\n",
       "    }\n",
       "\n",
       "    .dataframe tbody tr th {\n",
       "        vertical-align: top;\n",
       "    }\n",
       "\n",
       "    .dataframe thead th {\n",
       "        text-align: right;\n",
       "    }\n",
       "</style>\n",
       "<table border=\"1\" class=\"dataframe\">\n",
       "  <thead>\n",
       "    <tr style=\"text-align: right;\">\n",
       "      <th></th>\n",
       "      <th>CountryName</th>\n",
       "      <th>CountryCode</th>\n",
       "      <th>BirthRate</th>\n",
       "      <th>InternetUsers</th>\n",
       "      <th>IncomeGroup</th>\n",
       "    </tr>\n",
       "  </thead>\n",
       "  <tbody>\n",
       "    <tr>\n",
       "      <th>0</th>\n",
       "      <td>Aruba</td>\n",
       "      <td>ABW</td>\n",
       "      <td>10.244</td>\n",
       "      <td>78.9</td>\n",
       "      <td>High income</td>\n",
       "    </tr>\n",
       "    <tr>\n",
       "      <th>1</th>\n",
       "      <td>Afghanistan</td>\n",
       "      <td>AFG</td>\n",
       "      <td>35.253</td>\n",
       "      <td>5.9</td>\n",
       "      <td>Low income</td>\n",
       "    </tr>\n",
       "    <tr>\n",
       "      <th>2</th>\n",
       "      <td>Angola</td>\n",
       "      <td>AGO</td>\n",
       "      <td>45.985</td>\n",
       "      <td>19.1</td>\n",
       "      <td>Upper middle income</td>\n",
       "    </tr>\n",
       "    <tr>\n",
       "      <th>3</th>\n",
       "      <td>Albania</td>\n",
       "      <td>ALB</td>\n",
       "      <td>12.877</td>\n",
       "      <td>57.2</td>\n",
       "      <td>Upper middle income</td>\n",
       "    </tr>\n",
       "    <tr>\n",
       "      <th>4</th>\n",
       "      <td>United Arab Emirates</td>\n",
       "      <td>ARE</td>\n",
       "      <td>11.044</td>\n",
       "      <td>88.0</td>\n",
       "      <td>High income</td>\n",
       "    </tr>\n",
       "  </tbody>\n",
       "</table>\n",
       "</div>"
      ],
      "text/plain": [
       "            CountryName CountryCode  BirthRate  InternetUsers  \\\n",
       "0                 Aruba         ABW     10.244           78.9   \n",
       "1           Afghanistan         AFG     35.253            5.9   \n",
       "2                Angola         AGO     45.985           19.1   \n",
       "3               Albania         ALB     12.877           57.2   \n",
       "4  United Arab Emirates         ARE     11.044           88.0   \n",
       "\n",
       "           IncomeGroup  \n",
       "0          High income  \n",
       "1           Low income  \n",
       "2  Upper middle income  \n",
       "3  Upper middle income  \n",
       "4          High income  "
      ]
     },
     "execution_count": 58,
     "metadata": {},
     "output_type": "execute_result"
    }
   ],
   "source": [
    "Stat2.head()"
   ]
  },
  {
   "cell_type": "code",
   "execution_count": 59,
   "metadata": {},
   "outputs": [
    {
     "data": {
      "text/plain": [
       "0                   Aruba\n",
       "1             Afghanistan\n",
       "2                  Angola\n",
       "3                 Albania\n",
       "4    United Arab Emirates\n",
       "Name: CountryName, dtype: object"
      ]
     },
     "execution_count": 59,
     "metadata": {},
     "output_type": "execute_result"
    }
   ],
   "source": [
    "Stat2['CountryName'].head()"
   ]
  },
  {
   "cell_type": "code",
   "execution_count": 60,
   "metadata": {},
   "outputs": [
    {
     "data": {
      "text/html": [
       "<div>\n",
       "<style scoped>\n",
       "    .dataframe tbody tr th:only-of-type {\n",
       "        vertical-align: middle;\n",
       "    }\n",
       "\n",
       "    .dataframe tbody tr th {\n",
       "        vertical-align: top;\n",
       "    }\n",
       "\n",
       "    .dataframe thead th {\n",
       "        text-align: right;\n",
       "    }\n",
       "</style>\n",
       "<table border=\"1\" class=\"dataframe\">\n",
       "  <thead>\n",
       "    <tr style=\"text-align: right;\">\n",
       "      <th></th>\n",
       "      <th>CountryName</th>\n",
       "      <th>BirthRate</th>\n",
       "    </tr>\n",
       "  </thead>\n",
       "  <tbody>\n",
       "    <tr>\n",
       "      <th>0</th>\n",
       "      <td>Aruba</td>\n",
       "      <td>10.244</td>\n",
       "    </tr>\n",
       "    <tr>\n",
       "      <th>1</th>\n",
       "      <td>Afghanistan</td>\n",
       "      <td>35.253</td>\n",
       "    </tr>\n",
       "    <tr>\n",
       "      <th>2</th>\n",
       "      <td>Angola</td>\n",
       "      <td>45.985</td>\n",
       "    </tr>\n",
       "    <tr>\n",
       "      <th>3</th>\n",
       "      <td>Albania</td>\n",
       "      <td>12.877</td>\n",
       "    </tr>\n",
       "    <tr>\n",
       "      <th>4</th>\n",
       "      <td>United Arab Emirates</td>\n",
       "      <td>11.044</td>\n",
       "    </tr>\n",
       "  </tbody>\n",
       "</table>\n",
       "</div>"
      ],
      "text/plain": [
       "            CountryName  BirthRate\n",
       "0                 Aruba     10.244\n",
       "1           Afghanistan     35.253\n",
       "2                Angola     45.985\n",
       "3               Albania     12.877\n",
       "4  United Arab Emirates     11.044"
      ]
     },
     "execution_count": 60,
     "metadata": {},
     "output_type": "execute_result"
    }
   ],
   "source": [
    "# DF contain 2 columns only \n",
    "Stat2[['CountryName','BirthRate']].head()\n",
    "# here we are passing the list of list kind of things "
   ]
  },
  {
   "cell_type": "code",
   "execution_count": 61,
   "metadata": {},
   "outputs": [
    {
     "data": {
      "text/html": [
       "<div>\n",
       "<style scoped>\n",
       "    .dataframe tbody tr th:only-of-type {\n",
       "        vertical-align: middle;\n",
       "    }\n",
       "\n",
       "    .dataframe tbody tr th {\n",
       "        vertical-align: top;\n",
       "    }\n",
       "\n",
       "    .dataframe thead th {\n",
       "        text-align: right;\n",
       "    }\n",
       "</style>\n",
       "<table border=\"1\" class=\"dataframe\">\n",
       "  <thead>\n",
       "    <tr style=\"text-align: right;\">\n",
       "      <th></th>\n",
       "      <th>CountryName</th>\n",
       "      <th>CountryCode</th>\n",
       "      <th>BirthRate</th>\n",
       "      <th>InternetUsers</th>\n",
       "      <th>IncomeGroup</th>\n",
       "    </tr>\n",
       "  </thead>\n",
       "  <tbody>\n",
       "    <tr>\n",
       "      <th>0</th>\n",
       "      <td>Aruba</td>\n",
       "      <td>ABW</td>\n",
       "      <td>10.244</td>\n",
       "      <td>78.9</td>\n",
       "      <td>High income</td>\n",
       "    </tr>\n",
       "    <tr>\n",
       "      <th>1</th>\n",
       "      <td>Afghanistan</td>\n",
       "      <td>AFG</td>\n",
       "      <td>35.253</td>\n",
       "      <td>5.9</td>\n",
       "      <td>Low income</td>\n",
       "    </tr>\n",
       "    <tr>\n",
       "      <th>2</th>\n",
       "      <td>Angola</td>\n",
       "      <td>AGO</td>\n",
       "      <td>45.985</td>\n",
       "      <td>19.1</td>\n",
       "      <td>Upper middle income</td>\n",
       "    </tr>\n",
       "    <tr>\n",
       "      <th>3</th>\n",
       "      <td>Albania</td>\n",
       "      <td>ALB</td>\n",
       "      <td>12.877</td>\n",
       "      <td>57.2</td>\n",
       "      <td>Upper middle income</td>\n",
       "    </tr>\n",
       "    <tr>\n",
       "      <th>4</th>\n",
       "      <td>United Arab Emirates</td>\n",
       "      <td>ARE</td>\n",
       "      <td>11.044</td>\n",
       "      <td>88.0</td>\n",
       "      <td>High income</td>\n",
       "    </tr>\n",
       "  </tbody>\n",
       "</table>\n",
       "</div>"
      ],
      "text/plain": [
       "            CountryName CountryCode  BirthRate  InternetUsers  \\\n",
       "0                 Aruba         ABW     10.244           78.9   \n",
       "1           Afghanistan         AFG     35.253            5.9   \n",
       "2                Angola         AGO     45.985           19.1   \n",
       "3               Albania         ALB     12.877           57.2   \n",
       "4  United Arab Emirates         ARE     11.044           88.0   \n",
       "\n",
       "           IncomeGroup  \n",
       "0          High income  \n",
       "1           Low income  \n",
       "2  Upper middle income  \n",
       "3  Upper middle income  \n",
       "4          High income  "
      ]
     },
     "execution_count": 61,
     "metadata": {},
     "output_type": "execute_result"
    }
   ],
   "source": [
    "# quick access - requires the name to be one word \n",
    "Stat2.head()"
   ]
  },
  {
   "cell_type": "code",
   "execution_count": 62,
   "metadata": {},
   "outputs": [
    {
     "data": {
      "text/plain": [
       "0      10.244\n",
       "1      35.253\n",
       "2      45.985\n",
       "3      12.877\n",
       "4      11.044\n",
       "        ...  \n",
       "190    32.947\n",
       "191    20.850\n",
       "192    42.394\n",
       "193    40.471\n",
       "194    35.715\n",
       "Name: BirthRate, Length: 195, dtype: float64"
      ]
     },
     "execution_count": 62,
     "metadata": {},
     "output_type": "execute_result"
    }
   ],
   "source": [
    "Stat2.BirthRate\n",
    "# this will only give you one column and if you want to multiple columns then you need to try the above ne. "
   ]
  },
  {
   "cell_type": "code",
   "execution_count": 63,
   "metadata": {},
   "outputs": [
    {
     "data": {
      "text/html": [
       "<div>\n",
       "<style scoped>\n",
       "    .dataframe tbody tr th:only-of-type {\n",
       "        vertical-align: middle;\n",
       "    }\n",
       "\n",
       "    .dataframe tbody tr th {\n",
       "        vertical-align: top;\n",
       "    }\n",
       "\n",
       "    .dataframe thead th {\n",
       "        text-align: right;\n",
       "    }\n",
       "</style>\n",
       "<table border=\"1\" class=\"dataframe\">\n",
       "  <thead>\n",
       "    <tr style=\"text-align: right;\">\n",
       "      <th></th>\n",
       "      <th>CountryName</th>\n",
       "      <th>BirthRate</th>\n",
       "    </tr>\n",
       "  </thead>\n",
       "  <tbody>\n",
       "    <tr>\n",
       "      <th>10</th>\n",
       "      <td>Azerbaijan</td>\n",
       "      <td>18.300</td>\n",
       "    </tr>\n",
       "    <tr>\n",
       "      <th>11</th>\n",
       "      <td>Burundi</td>\n",
       "      <td>44.151</td>\n",
       "    </tr>\n",
       "  </tbody>\n",
       "</table>\n",
       "</div>"
      ],
      "text/plain": [
       "   CountryName  BirthRate\n",
       "10  Azerbaijan     18.300\n",
       "11     Burundi     44.151"
      ]
     },
     "execution_count": 63,
     "metadata": {},
     "output_type": "execute_result"
    }
   ],
   "source": [
    "Stat2[['CountryName','BirthRate']][10:22]\n",
    "# apply the different subset \n",
    "df1 = Stat2[['CountryName','BirthRate']]\n",
    "df1[10:12]"
   ]
  },
  {
   "cell_type": "markdown",
   "metadata": {},
   "source": [
    "Basic operations with DF "
   ]
  },
  {
   "cell_type": "code",
   "execution_count": 64,
   "metadata": {},
   "outputs": [
    {
     "data": {
      "text/html": [
       "<div>\n",
       "<style scoped>\n",
       "    .dataframe tbody tr th:only-of-type {\n",
       "        vertical-align: middle;\n",
       "    }\n",
       "\n",
       "    .dataframe tbody tr th {\n",
       "        vertical-align: top;\n",
       "    }\n",
       "\n",
       "    .dataframe thead th {\n",
       "        text-align: right;\n",
       "    }\n",
       "</style>\n",
       "<table border=\"1\" class=\"dataframe\">\n",
       "  <thead>\n",
       "    <tr style=\"text-align: right;\">\n",
       "      <th></th>\n",
       "      <th>CountryName</th>\n",
       "      <th>CountryCode</th>\n",
       "      <th>BirthRate</th>\n",
       "      <th>InternetUsers</th>\n",
       "      <th>IncomeGroup</th>\n",
       "    </tr>\n",
       "  </thead>\n",
       "  <tbody>\n",
       "    <tr>\n",
       "      <th>0</th>\n",
       "      <td>Aruba</td>\n",
       "      <td>ABW</td>\n",
       "      <td>10.244</td>\n",
       "      <td>78.9</td>\n",
       "      <td>High income</td>\n",
       "    </tr>\n",
       "    <tr>\n",
       "      <th>1</th>\n",
       "      <td>Afghanistan</td>\n",
       "      <td>AFG</td>\n",
       "      <td>35.253</td>\n",
       "      <td>5.9</td>\n",
       "      <td>Low income</td>\n",
       "    </tr>\n",
       "    <tr>\n",
       "      <th>2</th>\n",
       "      <td>Angola</td>\n",
       "      <td>AGO</td>\n",
       "      <td>45.985</td>\n",
       "      <td>19.1</td>\n",
       "      <td>Upper middle income</td>\n",
       "    </tr>\n",
       "    <tr>\n",
       "      <th>3</th>\n",
       "      <td>Albania</td>\n",
       "      <td>ALB</td>\n",
       "      <td>12.877</td>\n",
       "      <td>57.2</td>\n",
       "      <td>Upper middle income</td>\n",
       "    </tr>\n",
       "    <tr>\n",
       "      <th>4</th>\n",
       "      <td>United Arab Emirates</td>\n",
       "      <td>ARE</td>\n",
       "      <td>11.044</td>\n",
       "      <td>88.0</td>\n",
       "      <td>High income</td>\n",
       "    </tr>\n",
       "  </tbody>\n",
       "</table>\n",
       "</div>"
      ],
      "text/plain": [
       "            CountryName CountryCode  BirthRate  InternetUsers  \\\n",
       "0                 Aruba         ABW     10.244           78.9   \n",
       "1           Afghanistan         AFG     35.253            5.9   \n",
       "2                Angola         AGO     45.985           19.1   \n",
       "3               Albania         ALB     12.877           57.2   \n",
       "4  United Arab Emirates         ARE     11.044           88.0   \n",
       "\n",
       "           IncomeGroup  \n",
       "0          High income  \n",
       "1           Low income  \n",
       "2  Upper middle income  \n",
       "3  Upper middle income  \n",
       "4          High income  "
      ]
     },
     "execution_count": 64,
     "metadata": {},
     "output_type": "execute_result"
    }
   ],
   "source": [
    "# Already done with subset  and refresh \n",
    "Stat2.head()"
   ]
  },
  {
   "cell_type": "code",
   "execution_count": 65,
   "metadata": {},
   "outputs": [
    {
     "data": {
      "text/html": [
       "<div>\n",
       "<style scoped>\n",
       "    .dataframe tbody tr th:only-of-type {\n",
       "        vertical-align: middle;\n",
       "    }\n",
       "\n",
       "    .dataframe tbody tr th {\n",
       "        vertical-align: top;\n",
       "    }\n",
       "\n",
       "    .dataframe thead th {\n",
       "        text-align: right;\n",
       "    }\n",
       "</style>\n",
       "<table border=\"1\" class=\"dataframe\">\n",
       "  <thead>\n",
       "    <tr style=\"text-align: right;\">\n",
       "      <th></th>\n",
       "      <th>CountryCode</th>\n",
       "      <th>BirthRate</th>\n",
       "      <th>InternetUsers</th>\n",
       "    </tr>\n",
       "  </thead>\n",
       "  <tbody>\n",
       "    <tr>\n",
       "      <th>4</th>\n",
       "      <td>ARE</td>\n",
       "      <td>11.044</td>\n",
       "      <td>88.0</td>\n",
       "    </tr>\n",
       "    <tr>\n",
       "      <th>5</th>\n",
       "      <td>ARG</td>\n",
       "      <td>17.716</td>\n",
       "      <td>59.9</td>\n",
       "    </tr>\n",
       "    <tr>\n",
       "      <th>6</th>\n",
       "      <td>ARM</td>\n",
       "      <td>13.308</td>\n",
       "      <td>41.9</td>\n",
       "    </tr>\n",
       "    <tr>\n",
       "      <th>7</th>\n",
       "      <td>ATG</td>\n",
       "      <td>16.447</td>\n",
       "      <td>63.4</td>\n",
       "    </tr>\n",
       "  </tbody>\n",
       "</table>\n",
       "</div>"
      ],
      "text/plain": [
       "  CountryCode  BirthRate  InternetUsers\n",
       "4         ARE     11.044           88.0\n",
       "5         ARG     17.716           59.9\n",
       "6         ARM     13.308           41.9\n",
       "7         ATG     16.447           63.4"
      ]
     },
     "execution_count": 65,
     "metadata": {},
     "output_type": "execute_result"
    }
   ],
   "source": [
    "Stat2[['CountryCode','BirthRate','InternetUsers']][4:8]"
   ]
  },
  {
   "cell_type": "code",
   "execution_count": 66,
   "metadata": {},
   "outputs": [
    {
     "data": {
      "text/plain": [
       "0      808.2516\n",
       "1      207.9927\n",
       "2      878.3135\n",
       "3      736.5644\n",
       "4      971.8720\n",
       "         ...   \n",
       "190    658.9400\n",
       "191    969.5250\n",
       "192     93.2668\n",
       "193    623.2534\n",
       "194    660.7275\n",
       "Length: 195, dtype: float64"
      ]
     },
     "execution_count": 66,
     "metadata": {},
     "output_type": "execute_result"
    }
   ],
   "source": [
    "# airthmetic operations \n",
    "result = Stat2.BirthRate * Stat2.InternetUsers\n",
    "result"
   ]
  },
  {
   "cell_type": "code",
   "execution_count": 67,
   "metadata": {},
   "outputs": [],
   "source": [
    "# add a column in data set \n",
    "Stat2['MyColc'] = Stat2.BirthRate * Stat2.InternetUsers"
   ]
  },
  {
   "cell_type": "code",
   "execution_count": 68,
   "metadata": {},
   "outputs": [
    {
     "data": {
      "text/html": [
       "<div>\n",
       "<style scoped>\n",
       "    .dataframe tbody tr th:only-of-type {\n",
       "        vertical-align: middle;\n",
       "    }\n",
       "\n",
       "    .dataframe tbody tr th {\n",
       "        vertical-align: top;\n",
       "    }\n",
       "\n",
       "    .dataframe thead th {\n",
       "        text-align: right;\n",
       "    }\n",
       "</style>\n",
       "<table border=\"1\" class=\"dataframe\">\n",
       "  <thead>\n",
       "    <tr style=\"text-align: right;\">\n",
       "      <th></th>\n",
       "      <th>CountryName</th>\n",
       "      <th>CountryCode</th>\n",
       "      <th>BirthRate</th>\n",
       "      <th>InternetUsers</th>\n",
       "      <th>IncomeGroup</th>\n",
       "      <th>MyColc</th>\n",
       "    </tr>\n",
       "  </thead>\n",
       "  <tbody>\n",
       "    <tr>\n",
       "      <th>0</th>\n",
       "      <td>Aruba</td>\n",
       "      <td>ABW</td>\n",
       "      <td>10.244</td>\n",
       "      <td>78.9</td>\n",
       "      <td>High income</td>\n",
       "      <td>808.2516</td>\n",
       "    </tr>\n",
       "    <tr>\n",
       "      <th>1</th>\n",
       "      <td>Afghanistan</td>\n",
       "      <td>AFG</td>\n",
       "      <td>35.253</td>\n",
       "      <td>5.9</td>\n",
       "      <td>Low income</td>\n",
       "      <td>207.9927</td>\n",
       "    </tr>\n",
       "    <tr>\n",
       "      <th>2</th>\n",
       "      <td>Angola</td>\n",
       "      <td>AGO</td>\n",
       "      <td>45.985</td>\n",
       "      <td>19.1</td>\n",
       "      <td>Upper middle income</td>\n",
       "      <td>878.3135</td>\n",
       "    </tr>\n",
       "    <tr>\n",
       "      <th>3</th>\n",
       "      <td>Albania</td>\n",
       "      <td>ALB</td>\n",
       "      <td>12.877</td>\n",
       "      <td>57.2</td>\n",
       "      <td>Upper middle income</td>\n",
       "      <td>736.5644</td>\n",
       "    </tr>\n",
       "    <tr>\n",
       "      <th>4</th>\n",
       "      <td>United Arab Emirates</td>\n",
       "      <td>ARE</td>\n",
       "      <td>11.044</td>\n",
       "      <td>88.0</td>\n",
       "      <td>High income</td>\n",
       "      <td>971.8720</td>\n",
       "    </tr>\n",
       "    <tr>\n",
       "      <th>...</th>\n",
       "      <td>...</td>\n",
       "      <td>...</td>\n",
       "      <td>...</td>\n",
       "      <td>...</td>\n",
       "      <td>...</td>\n",
       "      <td>...</td>\n",
       "    </tr>\n",
       "    <tr>\n",
       "      <th>190</th>\n",
       "      <td>Yemen, Rep.</td>\n",
       "      <td>YEM</td>\n",
       "      <td>32.947</td>\n",
       "      <td>20.0</td>\n",
       "      <td>Lower middle income</td>\n",
       "      <td>658.9400</td>\n",
       "    </tr>\n",
       "    <tr>\n",
       "      <th>191</th>\n",
       "      <td>South Africa</td>\n",
       "      <td>ZAF</td>\n",
       "      <td>20.850</td>\n",
       "      <td>46.5</td>\n",
       "      <td>Upper middle income</td>\n",
       "      <td>969.5250</td>\n",
       "    </tr>\n",
       "    <tr>\n",
       "      <th>192</th>\n",
       "      <td>Congo, Dem. Rep.</td>\n",
       "      <td>COD</td>\n",
       "      <td>42.394</td>\n",
       "      <td>2.2</td>\n",
       "      <td>Low income</td>\n",
       "      <td>93.2668</td>\n",
       "    </tr>\n",
       "    <tr>\n",
       "      <th>193</th>\n",
       "      <td>Zambia</td>\n",
       "      <td>ZMB</td>\n",
       "      <td>40.471</td>\n",
       "      <td>15.4</td>\n",
       "      <td>Lower middle income</td>\n",
       "      <td>623.2534</td>\n",
       "    </tr>\n",
       "    <tr>\n",
       "      <th>194</th>\n",
       "      <td>Zimbabwe</td>\n",
       "      <td>ZWE</td>\n",
       "      <td>35.715</td>\n",
       "      <td>18.5</td>\n",
       "      <td>Low income</td>\n",
       "      <td>660.7275</td>\n",
       "    </tr>\n",
       "  </tbody>\n",
       "</table>\n",
       "<p>195 rows × 6 columns</p>\n",
       "</div>"
      ],
      "text/plain": [
       "              CountryName CountryCode  BirthRate  InternetUsers  \\\n",
       "0                   Aruba         ABW     10.244           78.9   \n",
       "1             Afghanistan         AFG     35.253            5.9   \n",
       "2                  Angola         AGO     45.985           19.1   \n",
       "3                 Albania         ALB     12.877           57.2   \n",
       "4    United Arab Emirates         ARE     11.044           88.0   \n",
       "..                    ...         ...        ...            ...   \n",
       "190           Yemen, Rep.         YEM     32.947           20.0   \n",
       "191          South Africa         ZAF     20.850           46.5   \n",
       "192      Congo, Dem. Rep.         COD     42.394            2.2   \n",
       "193                Zambia         ZMB     40.471           15.4   \n",
       "194              Zimbabwe         ZWE     35.715           18.5   \n",
       "\n",
       "             IncomeGroup    MyColc  \n",
       "0            High income  808.2516  \n",
       "1             Low income  207.9927  \n",
       "2    Upper middle income  878.3135  \n",
       "3    Upper middle income  736.5644  \n",
       "4            High income  971.8720  \n",
       "..                   ...       ...  \n",
       "190  Lower middle income  658.9400  \n",
       "191  Upper middle income  969.5250  \n",
       "192           Low income   93.2668  \n",
       "193  Lower middle income  623.2534  \n",
       "194           Low income  660.7275  \n",
       "\n",
       "[195 rows x 6 columns]"
      ]
     },
     "execution_count": 68,
     "metadata": {},
     "output_type": "execute_result"
    }
   ],
   "source": [
    "Stat2"
   ]
  },
  {
   "cell_type": "code",
   "execution_count": 69,
   "metadata": {},
   "outputs": [],
   "source": [
    "# omparision to R \n",
    "#Stat2['col_new_value'] = [1,2,3,4,5]\n",
    "# difference betwen vectorize programming language and not vectorize language \n"
   ]
  },
  {
   "cell_type": "code",
   "execution_count": 70,
   "metadata": {},
   "outputs": [],
   "source": [
    "# removing columns \n",
    "Stat2 = Stat2.drop('MyColc', axis=1)\n",
    "# since the DF is not yet overrid then you need to replave the DF by assigning them back Stat2= Stat2.drop......."
   ]
  },
  {
   "cell_type": "code",
   "execution_count": 71,
   "metadata": {},
   "outputs": [
    {
     "data": {
      "text/html": [
       "<div>\n",
       "<style scoped>\n",
       "    .dataframe tbody tr th:only-of-type {\n",
       "        vertical-align: middle;\n",
       "    }\n",
       "\n",
       "    .dataframe tbody tr th {\n",
       "        vertical-align: top;\n",
       "    }\n",
       "\n",
       "    .dataframe thead th {\n",
       "        text-align: right;\n",
       "    }\n",
       "</style>\n",
       "<table border=\"1\" class=\"dataframe\">\n",
       "  <thead>\n",
       "    <tr style=\"text-align: right;\">\n",
       "      <th></th>\n",
       "      <th>CountryName</th>\n",
       "      <th>CountryCode</th>\n",
       "      <th>BirthRate</th>\n",
       "      <th>InternetUsers</th>\n",
       "      <th>IncomeGroup</th>\n",
       "    </tr>\n",
       "  </thead>\n",
       "  <tbody>\n",
       "    <tr>\n",
       "      <th>0</th>\n",
       "      <td>Aruba</td>\n",
       "      <td>ABW</td>\n",
       "      <td>10.244</td>\n",
       "      <td>78.9</td>\n",
       "      <td>High income</td>\n",
       "    </tr>\n",
       "    <tr>\n",
       "      <th>1</th>\n",
       "      <td>Afghanistan</td>\n",
       "      <td>AFG</td>\n",
       "      <td>35.253</td>\n",
       "      <td>5.9</td>\n",
       "      <td>Low income</td>\n",
       "    </tr>\n",
       "    <tr>\n",
       "      <th>2</th>\n",
       "      <td>Angola</td>\n",
       "      <td>AGO</td>\n",
       "      <td>45.985</td>\n",
       "      <td>19.1</td>\n",
       "      <td>Upper middle income</td>\n",
       "    </tr>\n",
       "    <tr>\n",
       "      <th>3</th>\n",
       "      <td>Albania</td>\n",
       "      <td>ALB</td>\n",
       "      <td>12.877</td>\n",
       "      <td>57.2</td>\n",
       "      <td>Upper middle income</td>\n",
       "    </tr>\n",
       "    <tr>\n",
       "      <th>4</th>\n",
       "      <td>United Arab Emirates</td>\n",
       "      <td>ARE</td>\n",
       "      <td>11.044</td>\n",
       "      <td>88.0</td>\n",
       "      <td>High income</td>\n",
       "    </tr>\n",
       "    <tr>\n",
       "      <th>...</th>\n",
       "      <td>...</td>\n",
       "      <td>...</td>\n",
       "      <td>...</td>\n",
       "      <td>...</td>\n",
       "      <td>...</td>\n",
       "    </tr>\n",
       "    <tr>\n",
       "      <th>190</th>\n",
       "      <td>Yemen, Rep.</td>\n",
       "      <td>YEM</td>\n",
       "      <td>32.947</td>\n",
       "      <td>20.0</td>\n",
       "      <td>Lower middle income</td>\n",
       "    </tr>\n",
       "    <tr>\n",
       "      <th>191</th>\n",
       "      <td>South Africa</td>\n",
       "      <td>ZAF</td>\n",
       "      <td>20.850</td>\n",
       "      <td>46.5</td>\n",
       "      <td>Upper middle income</td>\n",
       "    </tr>\n",
       "    <tr>\n",
       "      <th>192</th>\n",
       "      <td>Congo, Dem. Rep.</td>\n",
       "      <td>COD</td>\n",
       "      <td>42.394</td>\n",
       "      <td>2.2</td>\n",
       "      <td>Low income</td>\n",
       "    </tr>\n",
       "    <tr>\n",
       "      <th>193</th>\n",
       "      <td>Zambia</td>\n",
       "      <td>ZMB</td>\n",
       "      <td>40.471</td>\n",
       "      <td>15.4</td>\n",
       "      <td>Lower middle income</td>\n",
       "    </tr>\n",
       "    <tr>\n",
       "      <th>194</th>\n",
       "      <td>Zimbabwe</td>\n",
       "      <td>ZWE</td>\n",
       "      <td>35.715</td>\n",
       "      <td>18.5</td>\n",
       "      <td>Low income</td>\n",
       "    </tr>\n",
       "  </tbody>\n",
       "</table>\n",
       "<p>195 rows × 5 columns</p>\n",
       "</div>"
      ],
      "text/plain": [
       "              CountryName CountryCode  BirthRate  InternetUsers  \\\n",
       "0                   Aruba         ABW     10.244           78.9   \n",
       "1             Afghanistan         AFG     35.253            5.9   \n",
       "2                  Angola         AGO     45.985           19.1   \n",
       "3                 Albania         ALB     12.877           57.2   \n",
       "4    United Arab Emirates         ARE     11.044           88.0   \n",
       "..                    ...         ...        ...            ...   \n",
       "190           Yemen, Rep.         YEM     32.947           20.0   \n",
       "191          South Africa         ZAF     20.850           46.5   \n",
       "192      Congo, Dem. Rep.         COD     42.394            2.2   \n",
       "193                Zambia         ZMB     40.471           15.4   \n",
       "194              Zimbabwe         ZWE     35.715           18.5   \n",
       "\n",
       "             IncomeGroup  \n",
       "0            High income  \n",
       "1             Low income  \n",
       "2    Upper middle income  \n",
       "3    Upper middle income  \n",
       "4            High income  \n",
       "..                   ...  \n",
       "190  Lower middle income  \n",
       "191  Upper middle income  \n",
       "192           Low income  \n",
       "193  Lower middle income  \n",
       "194           Low income  \n",
       "\n",
       "[195 rows x 5 columns]"
      ]
     },
     "execution_count": 71,
     "metadata": {},
     "output_type": "execute_result"
    }
   ],
   "source": [
    "Stat2"
   ]
  },
  {
   "cell_type": "markdown",
   "metadata": {},
   "source": [
    "Filtering data frame "
   ]
  },
  {
   "cell_type": "code",
   "execution_count": 72,
   "metadata": {},
   "outputs": [
    {
     "data": {
      "text/html": [
       "<div>\n",
       "<style scoped>\n",
       "    .dataframe tbody tr th:only-of-type {\n",
       "        vertical-align: middle;\n",
       "    }\n",
       "\n",
       "    .dataframe tbody tr th {\n",
       "        vertical-align: top;\n",
       "    }\n",
       "\n",
       "    .dataframe thead th {\n",
       "        text-align: right;\n",
       "    }\n",
       "</style>\n",
       "<table border=\"1\" class=\"dataframe\">\n",
       "  <thead>\n",
       "    <tr style=\"text-align: right;\">\n",
       "      <th></th>\n",
       "      <th>CountryName</th>\n",
       "      <th>CountryCode</th>\n",
       "      <th>BirthRate</th>\n",
       "      <th>InternetUsers</th>\n",
       "      <th>IncomeGroup</th>\n",
       "    </tr>\n",
       "  </thead>\n",
       "  <tbody>\n",
       "    <tr>\n",
       "      <th>0</th>\n",
       "      <td>Aruba</td>\n",
       "      <td>ABW</td>\n",
       "      <td>10.244</td>\n",
       "      <td>78.9</td>\n",
       "      <td>High income</td>\n",
       "    </tr>\n",
       "    <tr>\n",
       "      <th>1</th>\n",
       "      <td>Afghanistan</td>\n",
       "      <td>AFG</td>\n",
       "      <td>35.253</td>\n",
       "      <td>5.9</td>\n",
       "      <td>Low income</td>\n",
       "    </tr>\n",
       "    <tr>\n",
       "      <th>2</th>\n",
       "      <td>Angola</td>\n",
       "      <td>AGO</td>\n",
       "      <td>45.985</td>\n",
       "      <td>19.1</td>\n",
       "      <td>Upper middle income</td>\n",
       "    </tr>\n",
       "    <tr>\n",
       "      <th>3</th>\n",
       "      <td>Albania</td>\n",
       "      <td>ALB</td>\n",
       "      <td>12.877</td>\n",
       "      <td>57.2</td>\n",
       "      <td>Upper middle income</td>\n",
       "    </tr>\n",
       "    <tr>\n",
       "      <th>4</th>\n",
       "      <td>United Arab Emirates</td>\n",
       "      <td>ARE</td>\n",
       "      <td>11.044</td>\n",
       "      <td>88.0</td>\n",
       "      <td>High income</td>\n",
       "    </tr>\n",
       "  </tbody>\n",
       "</table>\n",
       "</div>"
      ],
      "text/plain": [
       "            CountryName CountryCode  BirthRate  InternetUsers  \\\n",
       "0                 Aruba         ABW     10.244           78.9   \n",
       "1           Afghanistan         AFG     35.253            5.9   \n",
       "2                Angola         AGO     45.985           19.1   \n",
       "3               Albania         ALB     12.877           57.2   \n",
       "4  United Arab Emirates         ARE     11.044           88.0   \n",
       "\n",
       "           IncomeGroup  \n",
       "0          High income  \n",
       "1           Low income  \n",
       "2  Upper middle income  \n",
       "3  Upper middle income  \n",
       "4          High income  "
      ]
     },
     "execution_count": 72,
     "metadata": {},
     "output_type": "execute_result"
    }
   ],
   "source": [
    "# Filtering is about rows \n",
    "# filter the high income groups \n",
    "Stat2.head()"
   ]
  },
  {
   "cell_type": "code",
   "execution_count": 73,
   "metadata": {},
   "outputs": [
    {
     "data": {
      "text/plain": [
       "0      False\n",
       "1      False\n",
       "2      False\n",
       "3      False\n",
       "4      False\n",
       "       ...  \n",
       "190    False\n",
       "191    False\n",
       "192    False\n",
       "193    False\n",
       "194    False\n",
       "Name: InternetUsers, Length: 195, dtype: bool"
      ]
     },
     "execution_count": 73,
     "metadata": {},
     "output_type": "execute_result"
    }
   ],
   "source": [
    "Stat2.InternetUsers < 2"
   ]
  },
  {
   "cell_type": "code",
   "execution_count": 74,
   "metadata": {},
   "outputs": [],
   "source": [
    "Filter = Stat2.InternetUsers < 2"
   ]
  },
  {
   "cell_type": "code",
   "execution_count": 75,
   "metadata": {},
   "outputs": [
    {
     "data": {
      "text/plain": [
       "0      False\n",
       "1      False\n",
       "2      False\n",
       "3      False\n",
       "4      False\n",
       "       ...  \n",
       "190    False\n",
       "191    False\n",
       "192    False\n",
       "193    False\n",
       "194    False\n",
       "Name: InternetUsers, Length: 195, dtype: bool"
      ]
     },
     "execution_count": 75,
     "metadata": {},
     "output_type": "execute_result"
    }
   ],
   "source": [
    "Filter"
   ]
  },
  {
   "cell_type": "code",
   "execution_count": 76,
   "metadata": {},
   "outputs": [
    {
     "data": {
      "text/html": [
       "<div>\n",
       "<style scoped>\n",
       "    .dataframe tbody tr th:only-of-type {\n",
       "        vertical-align: middle;\n",
       "    }\n",
       "\n",
       "    .dataframe tbody tr th {\n",
       "        vertical-align: top;\n",
       "    }\n",
       "\n",
       "    .dataframe thead th {\n",
       "        text-align: right;\n",
       "    }\n",
       "</style>\n",
       "<table border=\"1\" class=\"dataframe\">\n",
       "  <thead>\n",
       "    <tr style=\"text-align: right;\">\n",
       "      <th></th>\n",
       "      <th>CountryName</th>\n",
       "      <th>CountryCode</th>\n",
       "      <th>BirthRate</th>\n",
       "      <th>InternetUsers</th>\n",
       "      <th>IncomeGroup</th>\n",
       "    </tr>\n",
       "  </thead>\n",
       "  <tbody>\n",
       "    <tr>\n",
       "      <th>30</th>\n",
       "      <td>Canada</td>\n",
       "      <td>CAN</td>\n",
       "      <td>10.900</td>\n",
       "      <td>85.80</td>\n",
       "      <td>High income</td>\n",
       "    </tr>\n",
       "    <tr>\n",
       "      <th>31</th>\n",
       "      <td>Switzerland</td>\n",
       "      <td>CHE</td>\n",
       "      <td>10.200</td>\n",
       "      <td>86.34</td>\n",
       "      <td>High income</td>\n",
       "    </tr>\n",
       "    <tr>\n",
       "      <th>32</th>\n",
       "      <td>Chile</td>\n",
       "      <td>CHL</td>\n",
       "      <td>13.385</td>\n",
       "      <td>66.50</td>\n",
       "      <td>High income</td>\n",
       "    </tr>\n",
       "    <tr>\n",
       "      <th>33</th>\n",
       "      <td>China</td>\n",
       "      <td>CHN</td>\n",
       "      <td>12.100</td>\n",
       "      <td>45.80</td>\n",
       "      <td>Upper middle income</td>\n",
       "    </tr>\n",
       "    <tr>\n",
       "      <th>34</th>\n",
       "      <td>Cote d'Ivoire</td>\n",
       "      <td>CIV</td>\n",
       "      <td>37.320</td>\n",
       "      <td>8.40</td>\n",
       "      <td>Lower middle income</td>\n",
       "    </tr>\n",
       "    <tr>\n",
       "      <th>35</th>\n",
       "      <td>Cameroon</td>\n",
       "      <td>CMR</td>\n",
       "      <td>37.236</td>\n",
       "      <td>6.40</td>\n",
       "      <td>Lower middle income</td>\n",
       "    </tr>\n",
       "    <tr>\n",
       "      <th>36</th>\n",
       "      <td>Congo, Rep.</td>\n",
       "      <td>COG</td>\n",
       "      <td>37.011</td>\n",
       "      <td>6.60</td>\n",
       "      <td>Lower middle income</td>\n",
       "    </tr>\n",
       "    <tr>\n",
       "      <th>37</th>\n",
       "      <td>Colombia</td>\n",
       "      <td>COL</td>\n",
       "      <td>16.076</td>\n",
       "      <td>51.70</td>\n",
       "      <td>Upper middle income</td>\n",
       "    </tr>\n",
       "    <tr>\n",
       "      <th>38</th>\n",
       "      <td>Comoros</td>\n",
       "      <td>COM</td>\n",
       "      <td>34.326</td>\n",
       "      <td>6.50</td>\n",
       "      <td>Low income</td>\n",
       "    </tr>\n",
       "    <tr>\n",
       "      <th>39</th>\n",
       "      <td>Cabo Verde</td>\n",
       "      <td>CPV</td>\n",
       "      <td>21.625</td>\n",
       "      <td>37.50</td>\n",
       "      <td>Lower middle income</td>\n",
       "    </tr>\n",
       "  </tbody>\n",
       "</table>\n",
       "</div>"
      ],
      "text/plain": [
       "      CountryName CountryCode  BirthRate  InternetUsers          IncomeGroup\n",
       "30         Canada         CAN     10.900          85.80          High income\n",
       "31    Switzerland         CHE     10.200          86.34          High income\n",
       "32          Chile         CHL     13.385          66.50          High income\n",
       "33          China         CHN     12.100          45.80  Upper middle income\n",
       "34  Cote d'Ivoire         CIV     37.320           8.40  Lower middle income\n",
       "35       Cameroon         CMR     37.236           6.40  Lower middle income\n",
       "36    Congo, Rep.         COG     37.011           6.60  Lower middle income\n",
       "37       Colombia         COL     16.076          51.70  Upper middle income\n",
       "38        Comoros         COM     34.326           6.50           Low income\n",
       "39     Cabo Verde         CPV     21.625          37.50  Lower middle income"
      ]
     },
     "execution_count": 76,
     "metadata": {},
     "output_type": "execute_result"
    }
   ],
   "source": [
    "Stat2[30:40]\n"
   ]
  },
  {
   "cell_type": "code",
   "execution_count": 77,
   "metadata": {},
   "outputs": [
    {
     "data": {
      "text/html": [
       "<div>\n",
       "<style scoped>\n",
       "    .dataframe tbody tr th:only-of-type {\n",
       "        vertical-align: middle;\n",
       "    }\n",
       "\n",
       "    .dataframe tbody tr th {\n",
       "        vertical-align: top;\n",
       "    }\n",
       "\n",
       "    .dataframe thead th {\n",
       "        text-align: right;\n",
       "    }\n",
       "</style>\n",
       "<table border=\"1\" class=\"dataframe\">\n",
       "  <thead>\n",
       "    <tr style=\"text-align: right;\">\n",
       "      <th></th>\n",
       "      <th>CountryName</th>\n",
       "      <th>CountryCode</th>\n",
       "      <th>BirthRate</th>\n",
       "      <th>InternetUsers</th>\n",
       "      <th>IncomeGroup</th>\n",
       "    </tr>\n",
       "  </thead>\n",
       "  <tbody>\n",
       "    <tr>\n",
       "      <th>11</th>\n",
       "      <td>Burundi</td>\n",
       "      <td>BDI</td>\n",
       "      <td>44.151</td>\n",
       "      <td>1.3</td>\n",
       "      <td>Low income</td>\n",
       "    </tr>\n",
       "    <tr>\n",
       "      <th>52</th>\n",
       "      <td>Eritrea</td>\n",
       "      <td>ERI</td>\n",
       "      <td>34.800</td>\n",
       "      <td>0.9</td>\n",
       "      <td>Low income</td>\n",
       "    </tr>\n",
       "    <tr>\n",
       "      <th>55</th>\n",
       "      <td>Ethiopia</td>\n",
       "      <td>ETH</td>\n",
       "      <td>32.925</td>\n",
       "      <td>1.9</td>\n",
       "      <td>Low income</td>\n",
       "    </tr>\n",
       "    <tr>\n",
       "      <th>64</th>\n",
       "      <td>Guinea</td>\n",
       "      <td>GIN</td>\n",
       "      <td>37.337</td>\n",
       "      <td>1.6</td>\n",
       "      <td>Low income</td>\n",
       "    </tr>\n",
       "    <tr>\n",
       "      <th>117</th>\n",
       "      <td>Myanmar</td>\n",
       "      <td>MMR</td>\n",
       "      <td>18.119</td>\n",
       "      <td>1.6</td>\n",
       "      <td>Lower middle income</td>\n",
       "    </tr>\n",
       "    <tr>\n",
       "      <th>127</th>\n",
       "      <td>Niger</td>\n",
       "      <td>NER</td>\n",
       "      <td>49.661</td>\n",
       "      <td>1.7</td>\n",
       "      <td>Low income</td>\n",
       "    </tr>\n",
       "    <tr>\n",
       "      <th>154</th>\n",
       "      <td>Sierra Leone</td>\n",
       "      <td>SLE</td>\n",
       "      <td>36.729</td>\n",
       "      <td>1.7</td>\n",
       "      <td>Low income</td>\n",
       "    </tr>\n",
       "    <tr>\n",
       "      <th>156</th>\n",
       "      <td>Somalia</td>\n",
       "      <td>SOM</td>\n",
       "      <td>43.891</td>\n",
       "      <td>1.5</td>\n",
       "      <td>Low income</td>\n",
       "    </tr>\n",
       "    <tr>\n",
       "      <th>172</th>\n",
       "      <td>Timor-Leste</td>\n",
       "      <td>TLS</td>\n",
       "      <td>35.755</td>\n",
       "      <td>1.1</td>\n",
       "      <td>Lower middle income</td>\n",
       "    </tr>\n",
       "  </tbody>\n",
       "</table>\n",
       "</div>"
      ],
      "text/plain": [
       "      CountryName CountryCode  BirthRate  InternetUsers          IncomeGroup\n",
       "11        Burundi         BDI     44.151            1.3           Low income\n",
       "52        Eritrea         ERI     34.800            0.9           Low income\n",
       "55       Ethiopia         ETH     32.925            1.9           Low income\n",
       "64         Guinea         GIN     37.337            1.6           Low income\n",
       "117       Myanmar         MMR     18.119            1.6  Lower middle income\n",
       "127         Niger         NER     49.661            1.7           Low income\n",
       "154  Sierra Leone         SLE     36.729            1.7           Low income\n",
       "156       Somalia         SOM     43.891            1.5           Low income\n",
       "172   Timor-Leste         TLS     35.755            1.1  Lower middle income"
      ]
     },
     "execution_count": 77,
     "metadata": {},
     "output_type": "execute_result"
    }
   ],
   "source": [
    "# you don't have specify the true and false value \n",
    "# filer rows need to provide \n",
    "Stat2[Filter]\n",
    "# this always shows the true value and $ of the internet use < 2 \n",
    "# we created a object Stat2.InternetUsers < 2 and assign to Filter and pass to the DF "
   ]
  },
  {
   "cell_type": "code",
   "execution_count": 78,
   "metadata": {},
   "outputs": [
    {
     "data": {
      "text/html": [
       "<div>\n",
       "<style scoped>\n",
       "    .dataframe tbody tr th:only-of-type {\n",
       "        vertical-align: middle;\n",
       "    }\n",
       "\n",
       "    .dataframe tbody tr th {\n",
       "        vertical-align: top;\n",
       "    }\n",
       "\n",
       "    .dataframe thead th {\n",
       "        text-align: right;\n",
       "    }\n",
       "</style>\n",
       "<table border=\"1\" class=\"dataframe\">\n",
       "  <thead>\n",
       "    <tr style=\"text-align: right;\">\n",
       "      <th></th>\n",
       "      <th>CountryName</th>\n",
       "      <th>CountryCode</th>\n",
       "      <th>BirthRate</th>\n",
       "      <th>InternetUsers</th>\n",
       "      <th>IncomeGroup</th>\n",
       "    </tr>\n",
       "  </thead>\n",
       "  <tbody>\n",
       "    <tr>\n",
       "      <th>2</th>\n",
       "      <td>Angola</td>\n",
       "      <td>AGO</td>\n",
       "      <td>45.985</td>\n",
       "      <td>19.1</td>\n",
       "      <td>Upper middle income</td>\n",
       "    </tr>\n",
       "    <tr>\n",
       "      <th>11</th>\n",
       "      <td>Burundi</td>\n",
       "      <td>BDI</td>\n",
       "      <td>44.151</td>\n",
       "      <td>1.3</td>\n",
       "      <td>Low income</td>\n",
       "    </tr>\n",
       "    <tr>\n",
       "      <th>14</th>\n",
       "      <td>Burkina Faso</td>\n",
       "      <td>BFA</td>\n",
       "      <td>40.551</td>\n",
       "      <td>9.1</td>\n",
       "      <td>Low income</td>\n",
       "    </tr>\n",
       "    <tr>\n",
       "      <th>65</th>\n",
       "      <td>Gambia, The</td>\n",
       "      <td>GMB</td>\n",
       "      <td>42.525</td>\n",
       "      <td>14.0</td>\n",
       "      <td>Low income</td>\n",
       "    </tr>\n",
       "    <tr>\n",
       "      <th>115</th>\n",
       "      <td>Mali</td>\n",
       "      <td>MLI</td>\n",
       "      <td>44.138</td>\n",
       "      <td>3.5</td>\n",
       "      <td>Low income</td>\n",
       "    </tr>\n",
       "    <tr>\n",
       "      <th>127</th>\n",
       "      <td>Niger</td>\n",
       "      <td>NER</td>\n",
       "      <td>49.661</td>\n",
       "      <td>1.7</td>\n",
       "      <td>Low income</td>\n",
       "    </tr>\n",
       "    <tr>\n",
       "      <th>128</th>\n",
       "      <td>Nigeria</td>\n",
       "      <td>NGA</td>\n",
       "      <td>40.045</td>\n",
       "      <td>38.0</td>\n",
       "      <td>Lower middle income</td>\n",
       "    </tr>\n",
       "    <tr>\n",
       "      <th>156</th>\n",
       "      <td>Somalia</td>\n",
       "      <td>SOM</td>\n",
       "      <td>43.891</td>\n",
       "      <td>1.5</td>\n",
       "      <td>Low income</td>\n",
       "    </tr>\n",
       "    <tr>\n",
       "      <th>167</th>\n",
       "      <td>Chad</td>\n",
       "      <td>TCD</td>\n",
       "      <td>45.745</td>\n",
       "      <td>2.3</td>\n",
       "      <td>Low income</td>\n",
       "    </tr>\n",
       "    <tr>\n",
       "      <th>178</th>\n",
       "      <td>Uganda</td>\n",
       "      <td>UGA</td>\n",
       "      <td>43.474</td>\n",
       "      <td>16.2</td>\n",
       "      <td>Low income</td>\n",
       "    </tr>\n",
       "    <tr>\n",
       "      <th>192</th>\n",
       "      <td>Congo, Dem. Rep.</td>\n",
       "      <td>COD</td>\n",
       "      <td>42.394</td>\n",
       "      <td>2.2</td>\n",
       "      <td>Low income</td>\n",
       "    </tr>\n",
       "    <tr>\n",
       "      <th>193</th>\n",
       "      <td>Zambia</td>\n",
       "      <td>ZMB</td>\n",
       "      <td>40.471</td>\n",
       "      <td>15.4</td>\n",
       "      <td>Lower middle income</td>\n",
       "    </tr>\n",
       "  </tbody>\n",
       "</table>\n",
       "</div>"
      ],
      "text/plain": [
       "          CountryName CountryCode  BirthRate  InternetUsers  \\\n",
       "2              Angola         AGO     45.985           19.1   \n",
       "11            Burundi         BDI     44.151            1.3   \n",
       "14       Burkina Faso         BFA     40.551            9.1   \n",
       "65        Gambia, The         GMB     42.525           14.0   \n",
       "115              Mali         MLI     44.138            3.5   \n",
       "127             Niger         NER     49.661            1.7   \n",
       "128           Nigeria         NGA     40.045           38.0   \n",
       "156           Somalia         SOM     43.891            1.5   \n",
       "167              Chad         TCD     45.745            2.3   \n",
       "178            Uganda         UGA     43.474           16.2   \n",
       "192  Congo, Dem. Rep.         COD     42.394            2.2   \n",
       "193            Zambia         ZMB     40.471           15.4   \n",
       "\n",
       "             IncomeGroup  \n",
       "2    Upper middle income  \n",
       "11            Low income  \n",
       "14            Low income  \n",
       "65            Low income  \n",
       "115           Low income  \n",
       "127           Low income  \n",
       "128  Lower middle income  \n",
       "156           Low income  \n",
       "167           Low income  \n",
       "178           Low income  \n",
       "192           Low income  \n",
       "193  Lower middle income  "
      ]
     },
     "execution_count": 78,
     "metadata": {},
     "output_type": "execute_result"
    }
   ],
   "source": [
    "Stat2[Stat2.BirthRate >40]"
   ]
  },
  {
   "cell_type": "code",
   "execution_count": 79,
   "metadata": {},
   "outputs": [],
   "source": [
    "Filter2 = Stat2.BirthRate < 40\n",
    "# here here will get multi True and Flase and this is the problem to get the value in case if you are doing logical operations "
   ]
  },
  {
   "cell_type": "code",
   "execution_count": 80,
   "metadata": {},
   "outputs": [
    {
     "data": {
      "text/plain": [
       "0      False\n",
       "1      False\n",
       "2      False\n",
       "3      False\n",
       "4      False\n",
       "       ...  \n",
       "190    False\n",
       "191    False\n",
       "192    False\n",
       "193    False\n",
       "194    False\n",
       "Length: 195, dtype: bool"
      ]
     },
     "execution_count": 80,
     "metadata": {},
     "output_type": "execute_result"
    }
   ],
   "source": [
    "# # python is not good with vectorize PL \n",
    "## Stat2.BirthRate < 40 and Stat2.InternetUsers < 2\n",
    "# error is becasue python is not able to understand the and and expect single true and false value \n",
    "Filter & Filter2\n",
    "# here we are using the bit wise operator \n"
   ]
  },
  {
   "cell_type": "code",
   "execution_count": 81,
   "metadata": {},
   "outputs": [
    {
     "data": {
      "text/html": [
       "<div>\n",
       "<style scoped>\n",
       "    .dataframe tbody tr th:only-of-type {\n",
       "        vertical-align: middle;\n",
       "    }\n",
       "\n",
       "    .dataframe tbody tr th {\n",
       "        vertical-align: top;\n",
       "    }\n",
       "\n",
       "    .dataframe thead th {\n",
       "        text-align: right;\n",
       "    }\n",
       "</style>\n",
       "<table border=\"1\" class=\"dataframe\">\n",
       "  <thead>\n",
       "    <tr style=\"text-align: right;\">\n",
       "      <th></th>\n",
       "      <th>CountryName</th>\n",
       "      <th>CountryCode</th>\n",
       "      <th>BirthRate</th>\n",
       "      <th>InternetUsers</th>\n",
       "      <th>IncomeGroup</th>\n",
       "    </tr>\n",
       "  </thead>\n",
       "  <tbody>\n",
       "    <tr>\n",
       "      <th>52</th>\n",
       "      <td>Eritrea</td>\n",
       "      <td>ERI</td>\n",
       "      <td>34.800</td>\n",
       "      <td>0.9</td>\n",
       "      <td>Low income</td>\n",
       "    </tr>\n",
       "    <tr>\n",
       "      <th>55</th>\n",
       "      <td>Ethiopia</td>\n",
       "      <td>ETH</td>\n",
       "      <td>32.925</td>\n",
       "      <td>1.9</td>\n",
       "      <td>Low income</td>\n",
       "    </tr>\n",
       "    <tr>\n",
       "      <th>64</th>\n",
       "      <td>Guinea</td>\n",
       "      <td>GIN</td>\n",
       "      <td>37.337</td>\n",
       "      <td>1.6</td>\n",
       "      <td>Low income</td>\n",
       "    </tr>\n",
       "    <tr>\n",
       "      <th>117</th>\n",
       "      <td>Myanmar</td>\n",
       "      <td>MMR</td>\n",
       "      <td>18.119</td>\n",
       "      <td>1.6</td>\n",
       "      <td>Lower middle income</td>\n",
       "    </tr>\n",
       "    <tr>\n",
       "      <th>154</th>\n",
       "      <td>Sierra Leone</td>\n",
       "      <td>SLE</td>\n",
       "      <td>36.729</td>\n",
       "      <td>1.7</td>\n",
       "      <td>Low income</td>\n",
       "    </tr>\n",
       "    <tr>\n",
       "      <th>172</th>\n",
       "      <td>Timor-Leste</td>\n",
       "      <td>TLS</td>\n",
       "      <td>35.755</td>\n",
       "      <td>1.1</td>\n",
       "      <td>Lower middle income</td>\n",
       "    </tr>\n",
       "  </tbody>\n",
       "</table>\n",
       "</div>"
      ],
      "text/plain": [
       "      CountryName CountryCode  BirthRate  InternetUsers          IncomeGroup\n",
       "52        Eritrea         ERI     34.800            0.9           Low income\n",
       "55       Ethiopia         ETH     32.925            1.9           Low income\n",
       "64         Guinea         GIN     37.337            1.6           Low income\n",
       "117       Myanmar         MMR     18.119            1.6  Lower middle income\n",
       "154  Sierra Leone         SLE     36.729            1.7           Low income\n",
       "172   Timor-Leste         TLS     35.755            1.1  Lower middle income"
      ]
     },
     "execution_count": 81,
     "metadata": {},
     "output_type": "execute_result"
    }
   ],
   "source": [
    "Stat2[Filter & Filter2]"
   ]
  },
  {
   "cell_type": "code",
   "execution_count": 82,
   "metadata": {},
   "outputs": [
    {
     "data": {
      "text/html": [
       "<div>\n",
       "<style scoped>\n",
       "    .dataframe tbody tr th:only-of-type {\n",
       "        vertical-align: middle;\n",
       "    }\n",
       "\n",
       "    .dataframe tbody tr th {\n",
       "        vertical-align: top;\n",
       "    }\n",
       "\n",
       "    .dataframe thead th {\n",
       "        text-align: right;\n",
       "    }\n",
       "</style>\n",
       "<table border=\"1\" class=\"dataframe\">\n",
       "  <thead>\n",
       "    <tr style=\"text-align: right;\">\n",
       "      <th></th>\n",
       "      <th>CountryName</th>\n",
       "      <th>CountryCode</th>\n",
       "      <th>BirthRate</th>\n",
       "      <th>InternetUsers</th>\n",
       "      <th>IncomeGroup</th>\n",
       "    </tr>\n",
       "  </thead>\n",
       "  <tbody>\n",
       "    <tr>\n",
       "      <th>52</th>\n",
       "      <td>Eritrea</td>\n",
       "      <td>ERI</td>\n",
       "      <td>34.800</td>\n",
       "      <td>0.9</td>\n",
       "      <td>Low income</td>\n",
       "    </tr>\n",
       "    <tr>\n",
       "      <th>55</th>\n",
       "      <td>Ethiopia</td>\n",
       "      <td>ETH</td>\n",
       "      <td>32.925</td>\n",
       "      <td>1.9</td>\n",
       "      <td>Low income</td>\n",
       "    </tr>\n",
       "    <tr>\n",
       "      <th>64</th>\n",
       "      <td>Guinea</td>\n",
       "      <td>GIN</td>\n",
       "      <td>37.337</td>\n",
       "      <td>1.6</td>\n",
       "      <td>Low income</td>\n",
       "    </tr>\n",
       "    <tr>\n",
       "      <th>117</th>\n",
       "      <td>Myanmar</td>\n",
       "      <td>MMR</td>\n",
       "      <td>18.119</td>\n",
       "      <td>1.6</td>\n",
       "      <td>Lower middle income</td>\n",
       "    </tr>\n",
       "    <tr>\n",
       "      <th>154</th>\n",
       "      <td>Sierra Leone</td>\n",
       "      <td>SLE</td>\n",
       "      <td>36.729</td>\n",
       "      <td>1.7</td>\n",
       "      <td>Low income</td>\n",
       "    </tr>\n",
       "    <tr>\n",
       "      <th>172</th>\n",
       "      <td>Timor-Leste</td>\n",
       "      <td>TLS</td>\n",
       "      <td>35.755</td>\n",
       "      <td>1.1</td>\n",
       "      <td>Lower middle income</td>\n",
       "    </tr>\n",
       "  </tbody>\n",
       "</table>\n",
       "</div>"
      ],
      "text/plain": [
       "      CountryName CountryCode  BirthRate  InternetUsers          IncomeGroup\n",
       "52        Eritrea         ERI     34.800            0.9           Low income\n",
       "55       Ethiopia         ETH     32.925            1.9           Low income\n",
       "64         Guinea         GIN     37.337            1.6           Low income\n",
       "117       Myanmar         MMR     18.119            1.6  Lower middle income\n",
       "154  Sierra Leone         SLE     36.729            1.7           Low income\n",
       "172   Timor-Leste         TLS     35.755            1.1  Lower middle income"
      ]
     },
     "execution_count": 82,
     "metadata": {},
     "output_type": "execute_result"
    }
   ],
   "source": [
    "# here are are chanign the bit wiase operator and the putting in to () the comparision so that can priortize \n",
    "Stat2[(Stat2.BirthRate < 40) & (Stat2.InternetUsers < 2)]"
   ]
  },
  {
   "cell_type": "code",
   "execution_count": 83,
   "metadata": {},
   "outputs": [
    {
     "data": {
      "text/html": [
       "<div>\n",
       "<style scoped>\n",
       "    .dataframe tbody tr th:only-of-type {\n",
       "        vertical-align: middle;\n",
       "    }\n",
       "\n",
       "    .dataframe tbody tr th {\n",
       "        vertical-align: top;\n",
       "    }\n",
       "\n",
       "    .dataframe thead th {\n",
       "        text-align: right;\n",
       "    }\n",
       "</style>\n",
       "<table border=\"1\" class=\"dataframe\">\n",
       "  <thead>\n",
       "    <tr style=\"text-align: right;\">\n",
       "      <th></th>\n",
       "      <th>CountryName</th>\n",
       "      <th>CountryCode</th>\n",
       "      <th>BirthRate</th>\n",
       "      <th>InternetUsers</th>\n",
       "      <th>IncomeGroup</th>\n",
       "    </tr>\n",
       "  </thead>\n",
       "  <tbody>\n",
       "    <tr>\n",
       "      <th>0</th>\n",
       "      <td>Aruba</td>\n",
       "      <td>ABW</td>\n",
       "      <td>10.244</td>\n",
       "      <td>78.90</td>\n",
       "      <td>High income</td>\n",
       "    </tr>\n",
       "    <tr>\n",
       "      <th>4</th>\n",
       "      <td>United Arab Emirates</td>\n",
       "      <td>ARE</td>\n",
       "      <td>11.044</td>\n",
       "      <td>88.00</td>\n",
       "      <td>High income</td>\n",
       "    </tr>\n",
       "    <tr>\n",
       "      <th>5</th>\n",
       "      <td>Argentina</td>\n",
       "      <td>ARG</td>\n",
       "      <td>17.716</td>\n",
       "      <td>59.90</td>\n",
       "      <td>High income</td>\n",
       "    </tr>\n",
       "    <tr>\n",
       "      <th>7</th>\n",
       "      <td>Antigua and Barbuda</td>\n",
       "      <td>ATG</td>\n",
       "      <td>16.447</td>\n",
       "      <td>63.40</td>\n",
       "      <td>High income</td>\n",
       "    </tr>\n",
       "    <tr>\n",
       "      <th>8</th>\n",
       "      <td>Australia</td>\n",
       "      <td>AUS</td>\n",
       "      <td>13.200</td>\n",
       "      <td>83.00</td>\n",
       "      <td>High income</td>\n",
       "    </tr>\n",
       "    <tr>\n",
       "      <th>...</th>\n",
       "      <td>...</td>\n",
       "      <td>...</td>\n",
       "      <td>...</td>\n",
       "      <td>...</td>\n",
       "      <td>...</td>\n",
       "    </tr>\n",
       "    <tr>\n",
       "      <th>174</th>\n",
       "      <td>Trinidad and Tobago</td>\n",
       "      <td>TTO</td>\n",
       "      <td>14.590</td>\n",
       "      <td>63.80</td>\n",
       "      <td>High income</td>\n",
       "    </tr>\n",
       "    <tr>\n",
       "      <th>180</th>\n",
       "      <td>Uruguay</td>\n",
       "      <td>URY</td>\n",
       "      <td>14.374</td>\n",
       "      <td>57.69</td>\n",
       "      <td>High income</td>\n",
       "    </tr>\n",
       "    <tr>\n",
       "      <th>181</th>\n",
       "      <td>United States</td>\n",
       "      <td>USA</td>\n",
       "      <td>12.500</td>\n",
       "      <td>84.20</td>\n",
       "      <td>High income</td>\n",
       "    </tr>\n",
       "    <tr>\n",
       "      <th>184</th>\n",
       "      <td>Venezuela, RB</td>\n",
       "      <td>VEN</td>\n",
       "      <td>19.842</td>\n",
       "      <td>54.90</td>\n",
       "      <td>High income</td>\n",
       "    </tr>\n",
       "    <tr>\n",
       "      <th>185</th>\n",
       "      <td>Virgin Islands (U.S.)</td>\n",
       "      <td>VIR</td>\n",
       "      <td>10.700</td>\n",
       "      <td>45.30</td>\n",
       "      <td>High income</td>\n",
       "    </tr>\n",
       "  </tbody>\n",
       "</table>\n",
       "<p>67 rows × 5 columns</p>\n",
       "</div>"
      ],
      "text/plain": [
       "               CountryName CountryCode  BirthRate  InternetUsers  IncomeGroup\n",
       "0                    Aruba         ABW     10.244          78.90  High income\n",
       "4     United Arab Emirates         ARE     11.044          88.00  High income\n",
       "5                Argentina         ARG     17.716          59.90  High income\n",
       "7      Antigua and Barbuda         ATG     16.447          63.40  High income\n",
       "8                Australia         AUS     13.200          83.00  High income\n",
       "..                     ...         ...        ...            ...          ...\n",
       "174    Trinidad and Tobago         TTO     14.590          63.80  High income\n",
       "180                Uruguay         URY     14.374          57.69  High income\n",
       "181          United States         USA     12.500          84.20  High income\n",
       "184          Venezuela, RB         VEN     19.842          54.90  High income\n",
       "185  Virgin Islands (U.S.)         VIR     10.700          45.30  High income\n",
       "\n",
       "[67 rows x 5 columns]"
      ]
     },
     "execution_count": 83,
     "metadata": {},
     "output_type": "execute_result"
    }
   ],
   "source": [
    "# here we are using the logical operator. \n",
    "Stat2[(Stat2.IncomeGroup == 'High income')]"
   ]
  },
  {
   "cell_type": "code",
   "execution_count": 84,
   "metadata": {},
   "outputs": [
    {
     "data": {
      "text/plain": [
       "array(['High income', 'Low income', 'Upper middle income',\n",
       "       'Lower middle income'], dtype=object)"
      ]
     },
     "execution_count": 84,
     "metadata": {},
     "output_type": "execute_result"
    }
   ],
   "source": [
    "# how to get the unique category \n",
    "Stat2.IncomeGroup.unique()"
   ]
  },
  {
   "cell_type": "code",
   "execution_count": 85,
   "metadata": {},
   "outputs": [
    {
     "data": {
      "text/html": [
       "<div>\n",
       "<style scoped>\n",
       "    .dataframe tbody tr th:only-of-type {\n",
       "        vertical-align: middle;\n",
       "    }\n",
       "\n",
       "    .dataframe tbody tr th {\n",
       "        vertical-align: top;\n",
       "    }\n",
       "\n",
       "    .dataframe thead th {\n",
       "        text-align: right;\n",
       "    }\n",
       "</style>\n",
       "<table border=\"1\" class=\"dataframe\">\n",
       "  <thead>\n",
       "    <tr style=\"text-align: right;\">\n",
       "      <th></th>\n",
       "      <th>CountryName</th>\n",
       "      <th>CountryCode</th>\n",
       "      <th>BirthRate</th>\n",
       "      <th>InternetUsers</th>\n",
       "      <th>IncomeGroup</th>\n",
       "    </tr>\n",
       "  </thead>\n",
       "  <tbody>\n",
       "    <tr>\n",
       "      <th>116</th>\n",
       "      <td>Malta</td>\n",
       "      <td>MLT</td>\n",
       "      <td>9.5</td>\n",
       "      <td>68.9138</td>\n",
       "      <td>High income</td>\n",
       "    </tr>\n",
       "  </tbody>\n",
       "</table>\n",
       "</div>"
      ],
      "text/plain": [
       "    CountryName CountryCode  BirthRate  InternetUsers  IncomeGroup\n",
       "116       Malta         MLT        9.5        68.9138  High income"
      ]
     },
     "execution_count": 85,
     "metadata": {},
     "output_type": "execute_result"
    }
   ],
   "source": [
    "# Find out everythign about countery Malta \n",
    "Stat2[Stat2.CountryName == 'Malta']"
   ]
  },
  {
   "cell_type": "markdown",
   "metadata": {},
   "source": [
    "Excercise \n",
    "- How to use dynamic value to filter and subsetting data \n"
   ]
  },
  {
   "cell_type": "code",
   "execution_count": null,
   "metadata": {},
   "outputs": [],
   "source": []
  },
  {
   "cell_type": "markdown",
   "metadata": {},
   "source": [
    "Using .at() and .iat() (advanced tutorial)\n",
    "- How to access an indivisual element "
   ]
  },
  {
   "cell_type": "code",
   "execution_count": 86,
   "metadata": {},
   "outputs": [],
   "source": [
    "# Stat2[2,2]\n",
    "# Code will give you an error becasue in DF you are not able to access the unique values "
   ]
  },
  {
   "cell_type": "code",
   "execution_count": 87,
   "metadata": {},
   "outputs": [
    {
     "data": {
      "text/plain": [
       "'Upper middle income'"
      ]
     },
     "execution_count": 87,
     "metadata": {},
     "output_type": "execute_result"
    }
   ],
   "source": [
    "# .at  - for lablesl  imp. even int are treated as lables. \n",
    "# .iat - for integer location. \n",
    "Stat2.iat[3,4]\n",
    "# third row and fourth columns \n",
    "\n"
   ]
  },
  {
   "cell_type": "code",
   "execution_count": 88,
   "metadata": {},
   "outputs": [
    {
     "data": {
      "text/plain": [
       "45.985"
      ]
     },
     "execution_count": 88,
     "metadata": {},
     "output_type": "execute_result"
    }
   ],
   "source": [
    "Stat2.at[2, 'BirthRate']"
   ]
  },
  {
   "cell_type": "code",
   "execution_count": 89,
   "metadata": {},
   "outputs": [],
   "source": [
    "sub10 = Stat2[::10]"
   ]
  },
  {
   "cell_type": "code",
   "execution_count": 90,
   "metadata": {},
   "outputs": [
    {
     "data": {
      "text/html": [
       "<div>\n",
       "<style scoped>\n",
       "    .dataframe tbody tr th:only-of-type {\n",
       "        vertical-align: middle;\n",
       "    }\n",
       "\n",
       "    .dataframe tbody tr th {\n",
       "        vertical-align: top;\n",
       "    }\n",
       "\n",
       "    .dataframe thead th {\n",
       "        text-align: right;\n",
       "    }\n",
       "</style>\n",
       "<table border=\"1\" class=\"dataframe\">\n",
       "  <thead>\n",
       "    <tr style=\"text-align: right;\">\n",
       "      <th></th>\n",
       "      <th>CountryName</th>\n",
       "      <th>CountryCode</th>\n",
       "      <th>BirthRate</th>\n",
       "      <th>InternetUsers</th>\n",
       "      <th>IncomeGroup</th>\n",
       "    </tr>\n",
       "  </thead>\n",
       "  <tbody>\n",
       "    <tr>\n",
       "      <th>0</th>\n",
       "      <td>Aruba</td>\n",
       "      <td>ABW</td>\n",
       "      <td>10.244</td>\n",
       "      <td>78.900000</td>\n",
       "      <td>High income</td>\n",
       "    </tr>\n",
       "    <tr>\n",
       "      <th>10</th>\n",
       "      <td>Azerbaijan</td>\n",
       "      <td>AZE</td>\n",
       "      <td>18.300</td>\n",
       "      <td>58.700000</td>\n",
       "      <td>Upper middle income</td>\n",
       "    </tr>\n",
       "    <tr>\n",
       "      <th>20</th>\n",
       "      <td>Belarus</td>\n",
       "      <td>BLR</td>\n",
       "      <td>12.500</td>\n",
       "      <td>54.170000</td>\n",
       "      <td>Upper middle income</td>\n",
       "    </tr>\n",
       "    <tr>\n",
       "      <th>30</th>\n",
       "      <td>Canada</td>\n",
       "      <td>CAN</td>\n",
       "      <td>10.900</td>\n",
       "      <td>85.800000</td>\n",
       "      <td>High income</td>\n",
       "    </tr>\n",
       "    <tr>\n",
       "      <th>40</th>\n",
       "      <td>Costa Rica</td>\n",
       "      <td>CRI</td>\n",
       "      <td>15.022</td>\n",
       "      <td>45.960000</td>\n",
       "      <td>Upper middle income</td>\n",
       "    </tr>\n",
       "    <tr>\n",
       "      <th>50</th>\n",
       "      <td>Ecuador</td>\n",
       "      <td>ECU</td>\n",
       "      <td>21.070</td>\n",
       "      <td>40.353684</td>\n",
       "      <td>Upper middle income</td>\n",
       "    </tr>\n",
       "    <tr>\n",
       "      <th>60</th>\n",
       "      <td>Gabon</td>\n",
       "      <td>GAB</td>\n",
       "      <td>30.555</td>\n",
       "      <td>9.200000</td>\n",
       "      <td>Upper middle income</td>\n",
       "    </tr>\n",
       "    <tr>\n",
       "      <th>70</th>\n",
       "      <td>Greenland</td>\n",
       "      <td>GRL</td>\n",
       "      <td>14.500</td>\n",
       "      <td>65.800000</td>\n",
       "      <td>High income</td>\n",
       "    </tr>\n",
       "    <tr>\n",
       "      <th>80</th>\n",
       "      <td>India</td>\n",
       "      <td>IND</td>\n",
       "      <td>20.291</td>\n",
       "      <td>15.100000</td>\n",
       "      <td>Lower middle income</td>\n",
       "    </tr>\n",
       "    <tr>\n",
       "      <th>90</th>\n",
       "      <td>Kazakhstan</td>\n",
       "      <td>KAZ</td>\n",
       "      <td>22.730</td>\n",
       "      <td>54.000000</td>\n",
       "      <td>Upper middle income</td>\n",
       "    </tr>\n",
       "    <tr>\n",
       "      <th>100</th>\n",
       "      <td>Libya</td>\n",
       "      <td>LBY</td>\n",
       "      <td>21.425</td>\n",
       "      <td>16.500000</td>\n",
       "      <td>Upper middle income</td>\n",
       "    </tr>\n",
       "    <tr>\n",
       "      <th>110</th>\n",
       "      <td>Moldova</td>\n",
       "      <td>MDA</td>\n",
       "      <td>12.141</td>\n",
       "      <td>45.000000</td>\n",
       "      <td>Lower middle income</td>\n",
       "    </tr>\n",
       "    <tr>\n",
       "      <th>120</th>\n",
       "      <td>Mozambique</td>\n",
       "      <td>MOZ</td>\n",
       "      <td>39.705</td>\n",
       "      <td>5.400000</td>\n",
       "      <td>Low income</td>\n",
       "    </tr>\n",
       "    <tr>\n",
       "      <th>130</th>\n",
       "      <td>Netherlands</td>\n",
       "      <td>NLD</td>\n",
       "      <td>10.200</td>\n",
       "      <td>93.956400</td>\n",
       "      <td>High income</td>\n",
       "    </tr>\n",
       "    <tr>\n",
       "      <th>140</th>\n",
       "      <td>Poland</td>\n",
       "      <td>POL</td>\n",
       "      <td>9.600</td>\n",
       "      <td>62.849200</td>\n",
       "      <td>High income</td>\n",
       "    </tr>\n",
       "    <tr>\n",
       "      <th>150</th>\n",
       "      <td>Sudan</td>\n",
       "      <td>SDN</td>\n",
       "      <td>33.477</td>\n",
       "      <td>22.700000</td>\n",
       "      <td>Lower middle income</td>\n",
       "    </tr>\n",
       "    <tr>\n",
       "      <th>160</th>\n",
       "      <td>Suriname</td>\n",
       "      <td>SUR</td>\n",
       "      <td>18.455</td>\n",
       "      <td>37.400000</td>\n",
       "      <td>Upper middle income</td>\n",
       "    </tr>\n",
       "    <tr>\n",
       "      <th>170</th>\n",
       "      <td>Tajikistan</td>\n",
       "      <td>TJK</td>\n",
       "      <td>30.792</td>\n",
       "      <td>16.000000</td>\n",
       "      <td>Lower middle income</td>\n",
       "    </tr>\n",
       "    <tr>\n",
       "      <th>180</th>\n",
       "      <td>Uruguay</td>\n",
       "      <td>URY</td>\n",
       "      <td>14.374</td>\n",
       "      <td>57.690000</td>\n",
       "      <td>High income</td>\n",
       "    </tr>\n",
       "    <tr>\n",
       "      <th>190</th>\n",
       "      <td>Yemen, Rep.</td>\n",
       "      <td>YEM</td>\n",
       "      <td>32.947</td>\n",
       "      <td>20.000000</td>\n",
       "      <td>Lower middle income</td>\n",
       "    </tr>\n",
       "  </tbody>\n",
       "</table>\n",
       "</div>"
      ],
      "text/plain": [
       "     CountryName CountryCode  BirthRate  InternetUsers          IncomeGroup\n",
       "0          Aruba         ABW     10.244      78.900000          High income\n",
       "10    Azerbaijan         AZE     18.300      58.700000  Upper middle income\n",
       "20       Belarus         BLR     12.500      54.170000  Upper middle income\n",
       "30        Canada         CAN     10.900      85.800000          High income\n",
       "40    Costa Rica         CRI     15.022      45.960000  Upper middle income\n",
       "50       Ecuador         ECU     21.070      40.353684  Upper middle income\n",
       "60         Gabon         GAB     30.555       9.200000  Upper middle income\n",
       "70     Greenland         GRL     14.500      65.800000          High income\n",
       "80         India         IND     20.291      15.100000  Lower middle income\n",
       "90    Kazakhstan         KAZ     22.730      54.000000  Upper middle income\n",
       "100        Libya         LBY     21.425      16.500000  Upper middle income\n",
       "110      Moldova         MDA     12.141      45.000000  Lower middle income\n",
       "120   Mozambique         MOZ     39.705       5.400000           Low income\n",
       "130  Netherlands         NLD     10.200      93.956400          High income\n",
       "140       Poland         POL      9.600      62.849200          High income\n",
       "150        Sudan         SDN     33.477      22.700000  Lower middle income\n",
       "160     Suriname         SUR     18.455      37.400000  Upper middle income\n",
       "170   Tajikistan         TJK     30.792      16.000000  Lower middle income\n",
       "180      Uruguay         URY     14.374      57.690000          High income\n",
       "190  Yemen, Rep.         YEM     32.947      20.000000  Lower middle income"
      ]
     },
     "execution_count": 90,
     "metadata": {},
     "output_type": "execute_result"
    }
   ],
   "source": [
    "sub10"
   ]
  },
  {
   "cell_type": "code",
   "execution_count": 91,
   "metadata": {},
   "outputs": [
    {
     "data": {
      "text/plain": [
       "'Libya'"
      ]
     },
     "execution_count": 91,
     "metadata": {},
     "output_type": "execute_result"
    }
   ],
   "source": [
    "sub10.iat[10,0]\n",
    "# index 10 and 0 column will be the output "
   ]
  },
  {
   "cell_type": "code",
   "execution_count": 92,
   "metadata": {},
   "outputs": [
    {
     "data": {
      "text/plain": [
       "'Azerbaijan'"
      ]
     },
     "execution_count": 92,
     "metadata": {},
     "output_type": "execute_result"
    }
   ],
   "source": [
    "sub10.at[10, 'CountryName']\n",
    "# becasue at is using the 10 as label and it will searchrow stather from 10 and then show the output "
   ]
  },
  {
   "cell_type": "markdown",
   "metadata": {},
   "source": [
    "intro a Seaborn package for visualization matplotlib "
   ]
  },
  {
   "cell_type": "code",
   "execution_count": 93,
   "metadata": {},
   "outputs": [],
   "source": [
    "import matplotlib.pyplot as plt \n",
    "import seaborn as sns\n",
    "plt.rcParams['figure.figsize'] = 8,4\n",
    "#matplotlib inline \n",
    "import warnings \n",
    "warnings.filterwarnings('ignore')"
   ]
  },
  {
   "cell_type": "code",
   "execution_count": 94,
   "metadata": {},
   "outputs": [
    {
     "data": {
      "text/html": [
       "<div>\n",
       "<style scoped>\n",
       "    .dataframe tbody tr th:only-of-type {\n",
       "        vertical-align: middle;\n",
       "    }\n",
       "\n",
       "    .dataframe tbody tr th {\n",
       "        vertical-align: top;\n",
       "    }\n",
       "\n",
       "    .dataframe thead th {\n",
       "        text-align: right;\n",
       "    }\n",
       "</style>\n",
       "<table border=\"1\" class=\"dataframe\">\n",
       "  <thead>\n",
       "    <tr style=\"text-align: right;\">\n",
       "      <th></th>\n",
       "      <th>CountryName</th>\n",
       "      <th>CountryCode</th>\n",
       "      <th>BirthRate</th>\n",
       "      <th>InternetUsers</th>\n",
       "      <th>IncomeGroup</th>\n",
       "    </tr>\n",
       "  </thead>\n",
       "  <tbody>\n",
       "    <tr>\n",
       "      <th>0</th>\n",
       "      <td>Aruba</td>\n",
       "      <td>ABW</td>\n",
       "      <td>10.244</td>\n",
       "      <td>78.9</td>\n",
       "      <td>High income</td>\n",
       "    </tr>\n",
       "    <tr>\n",
       "      <th>1</th>\n",
       "      <td>Afghanistan</td>\n",
       "      <td>AFG</td>\n",
       "      <td>35.253</td>\n",
       "      <td>5.9</td>\n",
       "      <td>Low income</td>\n",
       "    </tr>\n",
       "    <tr>\n",
       "      <th>2</th>\n",
       "      <td>Angola</td>\n",
       "      <td>AGO</td>\n",
       "      <td>45.985</td>\n",
       "      <td>19.1</td>\n",
       "      <td>Upper middle income</td>\n",
       "    </tr>\n",
       "    <tr>\n",
       "      <th>3</th>\n",
       "      <td>Albania</td>\n",
       "      <td>ALB</td>\n",
       "      <td>12.877</td>\n",
       "      <td>57.2</td>\n",
       "      <td>Upper middle income</td>\n",
       "    </tr>\n",
       "    <tr>\n",
       "      <th>4</th>\n",
       "      <td>United Arab Emirates</td>\n",
       "      <td>ARE</td>\n",
       "      <td>11.044</td>\n",
       "      <td>88.0</td>\n",
       "      <td>High income</td>\n",
       "    </tr>\n",
       "  </tbody>\n",
       "</table>\n",
       "</div>"
      ],
      "text/plain": [
       "            CountryName CountryCode  BirthRate  InternetUsers  \\\n",
       "0                 Aruba         ABW     10.244           78.9   \n",
       "1           Afghanistan         AFG     35.253            5.9   \n",
       "2                Angola         AGO     45.985           19.1   \n",
       "3               Albania         ALB     12.877           57.2   \n",
       "4  United Arab Emirates         ARE     11.044           88.0   \n",
       "\n",
       "           IncomeGroup  \n",
       "0          High income  \n",
       "1           Low income  \n",
       "2  Upper middle income  \n",
       "3  Upper middle income  \n",
       "4          High income  "
      ]
     },
     "execution_count": 94,
     "metadata": {},
     "output_type": "execute_result"
    }
   ],
   "source": [
    "Stat2.head()"
   ]
  },
  {
   "cell_type": "code",
   "execution_count": 95,
   "metadata": {},
   "outputs": [
    {
     "data": {
      "image/png": "[encoded data removed]",
      "text/plain": [
       "<Figure size 800x400 with 1 Axes>"
      ]
     },
     "metadata": {},
     "output_type": "display_data"
    }
   ],
   "source": [
    "visual1 = sns.distplot(Stat2[\"InternetUsers\"])"
   ]
  },
  {
   "cell_type": "code",
   "execution_count": 96,
   "metadata": {},
   "outputs": [
    {
     "data": {
      "image/png": "[encoded data removed]",
      "text/plain": [
       "<Figure size 500x500 with 1 Axes>"
      ]
     },
     "metadata": {},
     "output_type": "display_data"
    }
   ],
   "source": [
    "visual1 = sns.displot(Stat2[\"InternetUsers\"])"
   ]
  },
  {
   "cell_type": "code",
   "execution_count": 97,
   "metadata": {},
   "outputs": [
    {
     "data": {
      "image/png": "[encoded data removed]",
      "text/plain": [
       "<Figure size 800x400 with 1 Axes>"
      ]
     },
     "metadata": {},
     "output_type": "display_data"
    }
   ],
   "source": [
    "visual2 = sns.distplot(Stat2[\"InternetUsers\"], bins=30)"
   ]
  },
  {
   "cell_type": "code",
   "execution_count": 98,
   "metadata": {},
   "outputs": [
    {
     "data": {
      "image/png": "[encoded data removed]",
      "text/plain": [
       "<Figure size 800x400 with 1 Axes>"
      ]
     },
     "metadata": {},
     "output_type": "display_data"
    }
   ],
   "source": [
    "# Boxplot\n",
    "vis3 = sns.boxenplot(data = Stat2, x = 'IncomeGroup', y=\"BirthRate\") "
   ]
  },
  {
   "cell_type": "markdown",
   "metadata": {},
   "source": [
    "Introduction of the Seaborn package \n",
    "this is the package on the top of matplotlib "
   ]
  },
  {
   "cell_type": "code",
   "execution_count": 105,
   "metadata": {},
   "outputs": [],
   "source": [
    "# Seaborn galarey \n",
    "import matplotlib.pyplot as plt \n",
    "import seaborn as srb \n",
    "%matplotlib inline\n",
    "plt.rcParams['figure.figsize'] = 8,4\n",
    "import warnings \n",
    "warnings.filterwarnings('ignore')"
   ]
  },
  {
   "cell_type": "code",
   "execution_count": 106,
   "metadata": {},
   "outputs": [
    {
     "data": {
      "text/html": [
       "<div>\n",
       "<style scoped>\n",
       "    .dataframe tbody tr th:only-of-type {\n",
       "        vertical-align: middle;\n",
       "    }\n",
       "\n",
       "    .dataframe tbody tr th {\n",
       "        vertical-align: top;\n",
       "    }\n",
       "\n",
       "    .dataframe thead th {\n",
       "        text-align: right;\n",
       "    }\n",
       "</style>\n",
       "<table border=\"1\" class=\"dataframe\">\n",
       "  <thead>\n",
       "    <tr style=\"text-align: right;\">\n",
       "      <th></th>\n",
       "      <th>CountryName</th>\n",
       "      <th>CountryCode</th>\n",
       "      <th>BirthRate</th>\n",
       "      <th>InternetUsers</th>\n",
       "      <th>IncomeGroup</th>\n",
       "    </tr>\n",
       "  </thead>\n",
       "  <tbody>\n",
       "    <tr>\n",
       "      <th>0</th>\n",
       "      <td>Aruba</td>\n",
       "      <td>ABW</td>\n",
       "      <td>10.244</td>\n",
       "      <td>78.9</td>\n",
       "      <td>High income</td>\n",
       "    </tr>\n",
       "    <tr>\n",
       "      <th>1</th>\n",
       "      <td>Afghanistan</td>\n",
       "      <td>AFG</td>\n",
       "      <td>35.253</td>\n",
       "      <td>5.9</td>\n",
       "      <td>Low income</td>\n",
       "    </tr>\n",
       "    <tr>\n",
       "      <th>2</th>\n",
       "      <td>Angola</td>\n",
       "      <td>AGO</td>\n",
       "      <td>45.985</td>\n",
       "      <td>19.1</td>\n",
       "      <td>Upper middle income</td>\n",
       "    </tr>\n",
       "    <tr>\n",
       "      <th>3</th>\n",
       "      <td>Albania</td>\n",
       "      <td>ALB</td>\n",
       "      <td>12.877</td>\n",
       "      <td>57.2</td>\n",
       "      <td>Upper middle income</td>\n",
       "    </tr>\n",
       "    <tr>\n",
       "      <th>4</th>\n",
       "      <td>United Arab Emirates</td>\n",
       "      <td>ARE</td>\n",
       "      <td>11.044</td>\n",
       "      <td>88.0</td>\n",
       "      <td>High income</td>\n",
       "    </tr>\n",
       "  </tbody>\n",
       "</table>\n",
       "</div>"
      ],
      "text/plain": [
       "            CountryName CountryCode  BirthRate  InternetUsers  \\\n",
       "0                 Aruba         ABW     10.244           78.9   \n",
       "1           Afghanistan         AFG     35.253            5.9   \n",
       "2                Angola         AGO     45.985           19.1   \n",
       "3               Albania         ALB     12.877           57.2   \n",
       "4  United Arab Emirates         ARE     11.044           88.0   \n",
       "\n",
       "           IncomeGroup  \n",
       "0          High income  \n",
       "1           Low income  \n",
       "2  Upper middle income  \n",
       "3  Upper middle income  \n",
       "4          High income  "
      ]
     },
     "execution_count": 106,
     "metadata": {},
     "output_type": "execute_result"
    }
   ],
   "source": [
    "Stat2.head()"
   ]
  },
  {
   "cell_type": "code",
   "execution_count": 107,
   "metadata": {},
   "outputs": [
    {
     "data": {
      "image/png": "[encoded data removed]",
      "text/plain": [
       "<Figure size 800x400 with 1 Axes>"
      ]
     },
     "metadata": {},
     "output_type": "display_data"
    }
   ],
   "source": [
    "vislual3 = srb.distplot(Stat2['InternetUsers'], )"
   ]
  },
  {
   "cell_type": "code",
   "execution_count": 127,
   "metadata": {},
   "outputs": [
    {
     "data": {
      "text/plain": [
       "<seaborn.axisgrid.FacetGrid at 0x29673af0350>"
      ]
     },
     "execution_count": 127,
     "metadata": {},
     "output_type": "execute_result"
    },
    {
     "data": {
      "image/png": "[encoded data removed]",
      "text/plain": [
       "<Figure size 699.25x500 with 1 Axes>"
      ]
     },
     "metadata": {},
     "output_type": "display_data"
    }
   ],
   "source": [
    "srb.lmplot(data=Stat2, x=\"InternetUsers\", y=\"BirthRate\", \\\n",
    "           fit_reg=False, hue='IncomeGroup')"
   ]
  },
  {
   "cell_type": "code",
   "execution_count": 117,
   "metadata": {},
   "outputs": [
    {
     "data": {
      "text/plain": [
       "<seaborn.axisgrid.FacetGrid at 0x29673d69310>"
      ]
     },
     "execution_count": 117,
     "metadata": {},
     "output_type": "execute_result"
    },
    {
     "data": {
      "image/png": "[encoded data removed]",
      "text/plain": [
       "<Figure size 500x500 with 1 Axes>"
      ]
     },
     "metadata": {},
     "output_type": "display_data"
    }
   ],
   "source": [
    "srb.lmplot(x=\"InternetUsers\", y=\"BirthRate\", data=Stat2)"
   ]
  },
  {
   "cell_type": "markdown",
   "metadata": {},
   "source": [
    "Keywords argument in python"
   ]
  },
  {
   "cell_type": "code",
   "execution_count": null,
   "metadata": {},
   "outputs": [],
   "source": []
  },
  {
   "cell_type": "code",
   "execution_count": null,
   "metadata": {},
   "outputs": [],
   "source": []
  },
  {
   "cell_type": "code",
   "execution_count": null,
   "metadata": {},
   "outputs": [],
   "source": []
  }
 ],
 "metadata": {
  "kernelspec": {
   "display_name": "Python 3 (ipykernel)",
   "language": "python",
   "name": "python3"
  },
  "language_info": {
   "codemirror_mode": {
    "name": "ipython",
    "version": 3
   },
   "file_extension": ".py",
   "mimetype": "text/x-python",
   "name": "python",
   "nbconvert_exporter": "python",
   "pygments_lexer": "ipython3",
   "version": "3.11.7"
  }
 },
 "nbformat": 4,
 "nbformat_minor": 2
}
